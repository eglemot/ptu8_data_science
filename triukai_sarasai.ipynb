{
 "cells": [
  {
   "attachments": {},
   "cell_type": "markdown",
   "metadata": {},
   "source": [
    "# map()"
   ]
  },
  {
   "cell_type": "code",
   "execution_count": 1,
   "metadata": {},
   "outputs": [
    {
     "data": {
      "text/plain": [
       "[4, 3, 2, 1]"
      ]
     },
     "execution_count": 1,
     "metadata": {},
     "output_type": "execute_result"
    }
   ],
   "source": [
    "sarasas = [4, 3, 2, 1]\n",
    "sarasas"
   ]
  },
  {
   "cell_type": "code",
   "execution_count": 3,
   "metadata": {},
   "outputs": [
    {
     "data": {
      "text/plain": [
       "[16, 9, 4, 1]"
      ]
     },
     "execution_count": 3,
     "metadata": {},
     "output_type": "execute_result"
    }
   ],
   "source": [
    "sarasas_kvadratu = []\n",
    "for skaicius in sarasas:\n",
    "    sarasas_kvadratu.append(skaicius ** 2)\n",
    "sarasas_kvadratu"
   ]
  },
  {
   "cell_type": "code",
   "execution_count": 6,
   "metadata": {},
   "outputs": [
    {
     "data": {
      "text/plain": [
       "[16, 9, 4, 1]"
      ]
     },
     "execution_count": 6,
     "metadata": {},
     "output_type": "execute_result"
    }
   ],
   "source": [
    "def kvadratu(skaicius):\n",
    "    return skaicius ** 2\n",
    "\n",
    "alt_kvadratu = map(kvadratu, sarasas)\n",
    "list(alt_kvadratu)"
   ]
  },
  {
   "cell_type": "code",
   "execution_count": 13,
   "metadata": {},
   "outputs": [
    {
     "data": {
      "text/plain": [
       "[16, 9, 4, 1]"
      ]
     },
     "execution_count": 13,
     "metadata": {},
     "output_type": "execute_result"
    }
   ],
   "source": [
    "lambda_kvadratu = map(lambda skaicius: skaicius ** 2, sarasas)\n",
    "list(lambda_kvadratu)"
   ]
  },
  {
   "cell_type": "code",
   "execution_count": 11,
   "metadata": {},
   "outputs": [
    {
     "data": {
      "text/plain": [
       "datetime.date(2023, 1, 31)"
      ]
     },
     "execution_count": 11,
     "metadata": {},
     "output_type": "execute_result"
    }
   ],
   "source": [
    "from datetime import date\n",
    "\n",
    "ivesta_data = \"2023-01-31\"\n",
    "metai, menuo, diena = map(int, ivesta_data.split('-'))\n",
    "tikra_data = date(metai, menuo, diena)\n",
    "tikra_data"
   ]
  },
  {
   "attachments": {},
   "cell_type": "markdown",
   "metadata": {},
   "source": [
    "# filter()"
   ]
  },
  {
   "cell_type": "code",
   "execution_count": 16,
   "metadata": {},
   "outputs": [
    {
     "data": {
      "text/plain": [
       "[4, 3]"
      ]
     },
     "execution_count": 16,
     "metadata": {},
     "output_type": "execute_result"
    }
   ],
   "source": [
    "def daugiau_nei_du(sarasas):\n",
    "    sarasas_2 = []\n",
    "    for skaicius in sarasas:\n",
    "        if skaicius > 2:\n",
    "            sarasas_2.append(skaicius)\n",
    "    return sarasas_2\n",
    "\n",
    "daugiau_nei_du(sarasas)"
   ]
  },
  {
   "cell_type": "code",
   "execution_count": 18,
   "metadata": {},
   "outputs": [
    {
     "data": {
      "text/plain": [
       "[4, 3]"
      ]
     },
     "execution_count": 18,
     "metadata": {},
     "output_type": "execute_result"
    }
   ],
   "source": [
    "d_uz_du = filter(lambda skaicius: skaicius > 2, sarasas)\n",
    "list(d_uz_du)"
   ]
  },
  {
   "cell_type": "code",
   "execution_count": 23,
   "metadata": {},
   "outputs": [
    {
     "data": {
      "text/plain": [
       "[-10, -8, -6, -4, -2, 0, 2, 4, 6, 8, 10, 12, 14, 16, 18]"
      ]
     },
     "execution_count": 23,
     "metadata": {},
     "output_type": "execute_result"
    }
   ],
   "source": [
    "aibe = list(range(-10, 20))\n",
    "lyginiai = filter(lambda skaicius: skaicius % 2 == 0, aibe)\n",
    "list(lyginiai)"
   ]
  },
  {
   "cell_type": "code",
   "execution_count": 24,
   "metadata": {},
   "outputs": [
    {
     "data": {
      "text/plain": [
       "[1952,\n",
       " 1956,\n",
       " 1960,\n",
       " 1964,\n",
       " 1968,\n",
       " 1972,\n",
       " 1976,\n",
       " 1980,\n",
       " 1984,\n",
       " 1988,\n",
       " 1992,\n",
       " 1996,\n",
       " 2000,\n",
       " 2004,\n",
       " 2008,\n",
       " 2012,\n",
       " 2016,\n",
       " 2020,\n",
       " 2024,\n",
       " 2028,\n",
       " 2032,\n",
       " 2036,\n",
       " 2040,\n",
       " 2044,\n",
       " 2048,\n",
       " 2052,\n",
       " 2056,\n",
       " 2060,\n",
       " 2064,\n",
       " 2068,\n",
       " 2072,\n",
       " 2076,\n",
       " 2080,\n",
       " 2084,\n",
       " 2088,\n",
       " 2092,\n",
       " 2096,\n",
       " 2104,\n",
       " 2108,\n",
       " 2112,\n",
       " 2116,\n",
       " 2120,\n",
       " 2124,\n",
       " 2128,\n",
       " 2132,\n",
       " 2136,\n",
       " 2140,\n",
       " 2144,\n",
       " 2148]"
      ]
     },
     "execution_count": 24,
     "metadata": {},
     "output_type": "execute_result"
    }
   ],
   "source": [
    "import calendar\n",
    "metai = list(range(1950, 2150))\n",
    "keliamieji = filter(calendar.isleap, metai)\n",
    "list(keliamieji)"
   ]
  },
  {
   "attachments": {},
   "cell_type": "markdown",
   "metadata": {},
   "source": [
    "# reduce()"
   ]
  },
  {
   "cell_type": "code",
   "execution_count": 34,
   "metadata": {},
   "outputs": [
    {
     "name": "stdout",
     "output_type": "stream",
     "text": [
      "[5, 6, 4, 3, 2, 1]\n"
     ]
    },
    {
     "data": {
      "text/plain": [
       "720"
      ]
     },
     "execution_count": 34,
     "metadata": {},
     "output_type": "execute_result"
    }
   ],
   "source": [
    "from functools import reduce\n",
    "\n",
    "print([5, 6] + sarasas)\n",
    "suma = reduce(lambda pirmas, antras: pirmas * antras, [5, 6] + sarasas)\n",
    "suma"
   ]
  },
  {
   "attachments": {},
   "cell_type": "markdown",
   "metadata": {},
   "source": [
    "# statistines funkcijos"
   ]
  },
  {
   "cell_type": "code",
   "execution_count": 36,
   "metadata": {},
   "outputs": [
    {
     "data": {
      "text/plain": [
       "10"
      ]
     },
     "execution_count": 36,
     "metadata": {},
     "output_type": "execute_result"
    }
   ],
   "source": [
    "sum(sarasas)"
   ]
  },
  {
   "cell_type": "code",
   "execution_count": 37,
   "metadata": {},
   "outputs": [
    {
     "data": {
      "text/plain": [
       "1"
      ]
     },
     "execution_count": 37,
     "metadata": {},
     "output_type": "execute_result"
    }
   ],
   "source": [
    "min(sarasas)"
   ]
  },
  {
   "cell_type": "code",
   "execution_count": 38,
   "metadata": {},
   "outputs": [
    {
     "data": {
      "text/plain": [
       "4"
      ]
     },
     "execution_count": 38,
     "metadata": {},
     "output_type": "execute_result"
    }
   ],
   "source": [
    "max(sarasas)"
   ]
  },
  {
   "cell_type": "code",
   "execution_count": 41,
   "metadata": {},
   "outputs": [
    {
     "name": "stdout",
     "output_type": "stream",
     "text": [
      "1.8571428571428572\n",
      "2\n"
     ]
    }
   ],
   "source": [
    "from statistics import mean, median\n",
    "print(mean(sarasas + [1, 1, 1]))\n",
    "print(median(sarasas + [2, 1, 1]))"
   ]
  },
  {
   "attachments": {},
   "cell_type": "markdown",
   "metadata": {},
   "source": [
    "# Sąrašo apibrėžimas (list comprehension)"
   ]
  },
  {
   "cell_type": "code",
   "execution_count": 43,
   "metadata": {},
   "outputs": [
    {
     "data": {
      "text/plain": [
       "[16, 9, 4, 1]"
      ]
     },
     "execution_count": 43,
     "metadata": {},
     "output_type": "execute_result"
    }
   ],
   "source": [
    "# ciklas sarase\n",
    "s_kvadratu = [skaicius ** 2 for skaicius in sarasas]\n",
    "s_kvadratu"
   ]
  },
  {
   "cell_type": "code",
   "execution_count": 44,
   "metadata": {},
   "outputs": [
    {
     "data": {
      "text/plain": [
       "[4, 3]"
      ]
     },
     "execution_count": 44,
     "metadata": {},
     "output_type": "execute_result"
    }
   ],
   "source": [
    "# salyga sarase = filtras\n",
    "f_d_uz_du = [skaicius for skaicius in sarasas if skaicius > 2]\n",
    "f_d_uz_du"
   ]
  },
  {
   "cell_type": "code",
   "execution_count": 57,
   "metadata": {},
   "outputs": [
    {
     "data": {
      "text/plain": [
       "-1"
      ]
     },
     "execution_count": 57,
     "metadata": {},
     "output_type": "execute_result"
    }
   ],
   "source": [
    "lyginiai = [skaicius for skaicius in range(-10000000, 10000000) if skaicius % 2 == 0]\n",
    "# lyginiai\n",
    "mean(lyginiai)"
   ]
  },
  {
   "cell_type": "code",
   "execution_count": 55,
   "metadata": {},
   "outputs": [
    {
     "data": {
      "text/plain": [
       "-1"
      ]
     },
     "execution_count": 55,
     "metadata": {},
     "output_type": "execute_result"
    }
   ],
   "source": [
    "genlyg = (skaicius for skaicius in range(-10000000, 10000000) if skaicius % 2 == 0)\n",
    "mean(genlyg)"
   ]
  },
  {
   "cell_type": "code",
   "execution_count": 58,
   "metadata": {},
   "outputs": [
    {
     "data": {
      "text/plain": [
       "-1"
      ]
     },
     "execution_count": 58,
     "metadata": {},
     "output_type": "execute_result"
    }
   ],
   "source": [
    "def tik_lyginiai(sarasas):\n",
    "    lyginiai = []\n",
    "    for skaicius in range(-10000000, 10000000):\n",
    "        if skaicius % 2 == 0:\n",
    "            lyginiai.append(skaicius)\n",
    "    return lyginiai\n",
    "\n",
    "tl = tik_lyginiai(sarasas)\n",
    "mean(tl)"
   ]
  },
  {
   "cell_type": "code",
   "execution_count": 61,
   "metadata": {},
   "outputs": [
    {
     "data": {
      "text/plain": [
       "[77,\n",
       " 66,\n",
       " 69,\n",
       " 'Labas',\n",
       " True,\n",
       " False,\n",
       " 'vakaras',\n",
       " [1, 2, 3],\n",
       " {'kibiras': 'be rankenos'},\n",
       " -100.2,\n",
       " 69.42,\n",
       " 'OK',\n",
       " 42,\n",
       " 21,\n",
       " 3.14]"
      ]
     },
     "execution_count": 61,
     "metadata": {},
     "output_type": "execute_result"
    }
   ],
   "source": [
    "misriukas = [77, 66, 69, \"Labas\", True, False, \"vakaras\", [1, 2, 3], {\"kibiras\": \"be rankenos\"}, -100.2, 69.420, \"OK\", 42, 21, 3.14]\n",
    "misriukas"
   ]
  },
  {
   "cell_type": "code",
   "execution_count": 62,
   "metadata": {},
   "outputs": [
    {
     "data": {
      "text/plain": [
       "5"
      ]
     },
     "execution_count": 62,
     "metadata": {},
     "output_type": "execute_result"
    }
   ],
   "source": [
    "kiek_intu = sum(type(elementas) is int for elementas in misriukas)\n",
    "kiek_intu"
   ]
  },
  {
   "cell_type": "code",
   "execution_count": 69,
   "metadata": {},
   "outputs": [
    {
     "data": {
      "text/plain": [
       "3"
      ]
     },
     "execution_count": 69,
     "metadata": {},
     "output_type": "execute_result"
    }
   ],
   "source": [
    "kiek_stringu = sum(type(elementas) is float for elementas in misriukas)\n",
    "kiek_stringu"
   ]
  },
  {
   "cell_type": "code",
   "execution_count": 72,
   "metadata": {},
   "outputs": [
    {
     "name": "stdout",
     "output_type": "stream",
     "text": [
      "3\n",
      "5\n",
      "1\n"
     ]
    }
   ],
   "source": [
    "def kiek_tipu(tipas, sarasas):\n",
    "    return sum(type(elementas) is tipas for elementas in sarasas)\n",
    "\n",
    "print(kiek_tipu(float, misriukas))\n",
    "print(kiek_tipu(int, misriukas))\n",
    "print(kiek_tipu(list, misriukas))"
   ]
  },
  {
   "attachments": {},
   "cell_type": "markdown",
   "metadata": {},
   "source": [
    "# rūšiavimas"
   ]
  },
  {
   "cell_type": "code",
   "execution_count": 73,
   "metadata": {},
   "outputs": [
    {
     "data": {
      "text/plain": [
       "[1, 2, 3, 4, 5, 6, 7, 8, 9, 10]"
      ]
     },
     "execution_count": 73,
     "metadata": {},
     "output_type": "execute_result"
    }
   ],
   "source": [
    "nerusiuotas = [4, 3, 2, 1, 5, 6, 7, 10, 9, 8]\n",
    "surusiuotas = sorted(nerusiuotas)\n",
    "surusiuotas"
   ]
  },
  {
   "cell_type": "code",
   "execution_count": 74,
   "metadata": {},
   "outputs": [
    {
     "data": {
      "text/plain": [
       "[10, 9, 8, 7, 6, 5, 4, 3, 2, 1]"
      ]
     },
     "execution_count": 74,
     "metadata": {},
     "output_type": "execute_result"
    }
   ],
   "source": [
    "nerusiuotas.sort(reverse=True)\n",
    "nerusiuotas"
   ]
  },
  {
   "cell_type": "code",
   "execution_count": 147,
   "metadata": {},
   "outputs": [
    {
     "data": {
      "text/plain": [
       "[-9803, -8713, -8445, -8225, -8082, -7433, 926, 2691, 7518, 7668]"
      ]
     },
     "execution_count": 147,
     "metadata": {},
     "output_type": "execute_result"
    }
   ],
   "source": [
    "from random import randrange\n",
    "betkas = sorted([randrange(-9999, 10000) for _ in range(10)])\n",
    "# betkas.sort()\n",
    "betkas"
   ]
  },
  {
   "cell_type": "code",
   "execution_count": 148,
   "metadata": {},
   "outputs": [
    {
     "name": "stdout",
     "output_type": "stream",
     "text": [
      "-8551\n",
      "-8531\n",
      "-6926\n",
      "-4628\n",
      "-3192\n",
      "-1996\n",
      "-217\n",
      "1483\n",
      "3729\n",
      "4381\n"
     ]
    }
   ],
   "source": [
    "from random import randrange\n",
    "betkas = [randrange(-9999, 10000) for _ in range(10)]\n",
    "betkas.sort()\n",
    "for skaicius in betkas:\n",
    "    print(skaicius)"
   ]
  },
  {
   "cell_type": "code",
   "execution_count": 145,
   "metadata": {},
   "outputs": [
    {
     "data": {
      "text/plain": [
       "['40', 'Destytojas', 'J', 'Kestutis']"
      ]
     },
     "execution_count": 145,
     "metadata": {},
     "output_type": "execute_result"
    }
   ],
   "source": [
    "zmogus = {\n",
    "    \"vardas\": \"Kestutis\",\n",
    "    \"pavarde\": \"J\",\n",
    "    \"amzius\": 40,\n",
    "    \"pareigos\": \"Destytojas\"\n",
    "}\n",
    "surusiuotas = sorted(str(value) for value in zmogus.values())\n",
    "surusiuotas"
   ]
  },
  {
   "cell_type": "code",
   "execution_count": 149,
   "metadata": {},
   "outputs": [
    {
     "data": {
      "text/plain": [
       "[-217, 1483, -1996, -3192, 3729, 4381, -4628, -6926, -8531, -8551]"
      ]
     },
     "execution_count": 149,
     "metadata": {},
     "output_type": "execute_result"
    }
   ],
   "source": [
    "sorted(betkas, key=abs)"
   ]
  },
  {
   "cell_type": "code",
   "execution_count": 168,
   "metadata": {},
   "outputs": [
    {
     "data": {
      "text/plain": [
       "[(Tadas, Rutkauskas, 1500),\n",
       " (Domas, Radzevičius, 2000),\n",
       " (Rokas, Ramanauskas, 1000),\n",
       " (Geras, Rikiuotojas, 3000)]"
      ]
     },
     "execution_count": 168,
     "metadata": {},
     "output_type": "execute_result"
    }
   ],
   "source": [
    "class Darbuotojas:\n",
    "    def __init__(self, vardas, pavarde, atlyginimas):\n",
    "        self.vardas = vardas\n",
    "        self.pavarde = pavarde\n",
    "        self.atlyginimas = atlyginimas\n",
    "\n",
    "    def __repr__(self):\n",
    "        return (f\"({self.vardas}, {self.pavarde}, {self.atlyginimas})\")\n",
    "\n",
    "class Gyvunas:\n",
    "    def __init__(self, vardas):\n",
    "        self.vardas = vardas\n",
    "\n",
    "    def __repr__(self):\n",
    "        return (f\"({self.vardas})\")\n",
    "\n",
    "d1 = Darbuotojas(\"Tadas\", \"Rutkauskas\", 1500)\n",
    "d2 = Darbuotojas(\"Domas\", \"Radzevičius\", 2000)\n",
    "d3 = Darbuotojas(\"Rokas\", \"Ramanauskas\", 1000)\n",
    "d4 = Darbuotojas(\"Geras\", \"Rikiuotojas\", 3000)\n",
    "darbuotojai = [d1, d2, d3, d4] #, \"Petras\", \"Antanas\", Gyvunas(\"Ciuckis\"), 777\n",
    "darbuotojai"
   ]
  },
  {
   "cell_type": "code",
   "execution_count": 169,
   "metadata": {},
   "outputs": [
    {
     "data": {
      "text/plain": [
       "[(Domas, Radzevičius, 2000),\n",
       " (Geras, Rikiuotojas, 3000),\n",
       " (Rokas, Ramanauskas, 1000),\n",
       " (Tadas, Rutkauskas, 1500)]"
      ]
     },
     "execution_count": 169,
     "metadata": {},
     "output_type": "execute_result"
    }
   ],
   "source": [
    "def rusiavimas_pagal_varda(obj):\n",
    "    if hasattr(obj, \"vardas\"):\n",
    "        return obj.vardas\n",
    "    else:\n",
    "        return str(obj)\n",
    "\n",
    "darbuotojai_pagal_varda = sorted(darbuotojai, key=rusiavimas_pagal_varda)\n",
    "darbuotojai_pagal_varda"
   ]
  },
  {
   "cell_type": "code",
   "execution_count": 170,
   "metadata": {},
   "outputs": [
    {
     "data": {
      "text/plain": [
       "[(Domas, Radzevičius, 2000),\n",
       " (Rokas, Ramanauskas, 1000),\n",
       " (Geras, Rikiuotojas, 3000),\n",
       " (Tadas, Rutkauskas, 1500)]"
      ]
     },
     "execution_count": 170,
     "metadata": {},
     "output_type": "execute_result"
    }
   ],
   "source": [
    "darbuotojai_pagal_pavarde = sorted(darbuotojai, key=lambda obj: obj.pavarde)\n",
    "darbuotojai_pagal_pavarde"
   ]
  },
  {
   "cell_type": "code",
   "execution_count": 172,
   "metadata": {},
   "outputs": [
    {
     "data": {
      "text/plain": [
       "[(Geras, Rikiuotojas, 3000),\n",
       " (Domas, Radzevičius, 2000),\n",
       " (Tadas, Rutkauskas, 1500),\n",
       " (Rokas, Ramanauskas, 1000)]"
      ]
     },
     "execution_count": 172,
     "metadata": {},
     "output_type": "execute_result"
    }
   ],
   "source": [
    "from operator import attrgetter\n",
    "darbuotojai_pagal_atlyginima = sorted(darbuotojai, key=attrgetter(\"atlyginimas\"), reverse=True)\n",
    "darbuotojai_pagal_atlyginima"
   ]
  }
 ],
 "metadata": {
  "kernelspec": {
   "display_name": "venv",
   "language": "python",
   "name": "python3"
  },
  "language_info": {
   "codemirror_mode": {
    "name": "ipython",
    "version": 3
   },
   "file_extension": ".py",
   "mimetype": "text/x-python",
   "name": "python",
   "nbconvert_exporter": "python",
   "pygments_lexer": "ipython3",
   "version": "3.8.10 (default, Nov 14 2022, 12:59:47) \n[GCC 9.4.0]"
  },
  "orig_nbformat": 4,
  "vscode": {
   "interpreter": {
    "hash": "fb638a7611dd751c98c4868f8b07efdb6561848469f9a017ff0265dbc4e7eaf7"
   }
  }
 },
 "nbformat": 4,
 "nbformat_minor": 2
}

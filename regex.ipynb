{
 "cells": [
  {
   "cell_type": "code",
<<<<<<< HEAD
   "execution_count": null,
   "metadata": {},
   "outputs": [],
   "source": [
    "#All words that start with ONE upper case: \"\\b[A-ZĄČĘĖĮŠŲŪ][a-ząčęėįšųū]+\\b\"\n",
    "#All uppercase words: \\b[A-ZĄČĘĖĮŠŲŪ][A-Z2]+\\b\n",
    "# Exact numbers 1663 AND 1884 : \\b1633|1884\\b\n",
    "# Exact numbers +370 2 333 1234: \\+\\d{3} \\d{1} \\d{3} \\d{4}\n",
    "#Faksas: \\(\\d{1} \\d{1}\\) \\d{3} \\d{4}\n",
    "#Saskaitai: \\LT\\d{2} \\d{4} \\d{4} \\d{4} \\d{4}\n",
    "#PVM kodas: \\LT\\d{9}\n",
    "# Before a specific char(in this case \":\"): .+?(?=:) \n",
    "# mail: ([a-z0-9_\\.\\+-]+)@([\\da-z\\.-]+)\\.([a-z\\.]{2,6})\n"
   ]
  },
  {
   "cell_type": "code",
=======
>>>>>>> c79da8474236e4b5d787f04f70f9db14f3ec7a30
   "execution_count": 1,
   "metadata": {},
   "outputs": [],
   "source": [
    "import re"
   ]
  },
  {
<<<<<<< HEAD
=======
   "attachments": {},
   "cell_type": "markdown",
   "metadata": {},
   "source": [
    "# Regex Pythone"
   ]
  },
  {
>>>>>>> c79da8474236e4b5d787f04f70f9db14f3ec7a30
   "cell_type": "code",
   "execution_count": 2,
   "metadata": {},
   "outputs": [],
   "source": [
<<<<<<< HEAD
    "telefono_nr = re.compile(r'\\+370 \\d{3} \\d{5}')"
=======
    "telefono_nr_filtras = re.compile(r'\\+370\\s\\d{3}\\s\\d{5}')"
>>>>>>> c79da8474236e4b5d787f04f70f9db14f3ec7a30
   ]
  },
  {
   "cell_type": "code",
   "execution_count": 3,
   "metadata": {},
   "outputs": [],
   "source": [
    "tekstas = '''Pirmas telefono numeris yra +370 123 12321, antras +370 321 10101.'''"
   ]
  },
  {
   "cell_type": "code",
   "execution_count": 4,
   "metadata": {},
   "outputs": [
    {
     "data": {
      "text/plain": [
       "<re.Match object; span=(28, 42), match='+370 123 12321'>"
      ]
     },
     "execution_count": 4,
     "metadata": {},
     "output_type": "execute_result"
    }
   ],
   "source": [
<<<<<<< HEAD
    "rastas_vienas = telefono_nr.search(tekstas)\n",
=======
    "rastas_vienas = telefono_nr_filtras.search(tekstas)\n",
>>>>>>> c79da8474236e4b5d787f04f70f9db14f3ec7a30
    "rastas_vienas"
   ]
  },
  {
   "cell_type": "code",
<<<<<<< HEAD
   "execution_count": 5,
   "metadata": {},
   "outputs": [
    {
     "data": {
      "text/plain": [
       "'+370 123 12321'"
      ]
     },
     "execution_count": 5,
     "metadata": {},
     "output_type": "execute_result"
    }
   ],
   "source": [
    "rastas_vienas.group()"
   ]
  },
  {
   "cell_type": "code",
   "execution_count": 6,
   "metadata": {},
   "outputs": [
    {
     "data": {
      "text/plain": [
       "['+370 123 12321', '+370 321 10101']"
      ]
     },
     "execution_count": 6,
     "metadata": {},
     "output_type": "execute_result"
    }
   ],
   "source": [
    "rasti_visi = telefono_nr.findall(tekstas)\n",
    "rasti_visi"
   ]
  },
  {
   "cell_type": "code",
   "execution_count": 7,
   "metadata": {},
   "outputs": [],
   "source": [
    "def validate_email(input):\n",
    "    email_regex = re.compile(r'^[a-zA-Z0-9._%-]+@[a-zA-Z0-9.-]+\\.[a-zA-Z]{2,6}$')\n",
    "    result = email_regex.search(input)\n",
    "    if result:\n",
    "        return True\n",
    "    return False"
   ]
  },
  {
   "cell_type": "code",
=======
>>>>>>> c79da8474236e4b5d787f04f70f9db14f3ec7a30
   "execution_count": 8,
   "metadata": {},
   "outputs": [
    {
     "data": {
      "text/plain": [
<<<<<<< HEAD
       "True"
=======
       "'+370 123 12321'"
>>>>>>> c79da8474236e4b5d787f04f70f9db14f3ec7a30
      ]
     },
     "execution_count": 8,
     "metadata": {},
     "output_type": "execute_result"
    }
   ],
   "source": [
<<<<<<< HEAD
    "validate_email('egle@gmail.com')"
=======
    "rastas_vienas.group()"
>>>>>>> c79da8474236e4b5d787f04f70f9db14f3ec7a30
   ]
  },
  {
   "cell_type": "code",
   "execution_count": 9,
   "metadata": {},
   "outputs": [
    {
     "data": {
      "text/plain": [
<<<<<<< HEAD
       "False"
=======
       "['+370 123 12321', '+370 321 10101']"
>>>>>>> c79da8474236e4b5d787f04f70f9db14f3ec7a30
      ]
     },
     "execution_count": 9,
     "metadata": {},
     "output_type": "execute_result"
    }
   ],
   "source": [
<<<<<<< HEAD
    "validate_email('stuedentai@@gd/rd')"
=======
    "rasti_visi = telefono_nr_filtras.findall(tekstas)\n",
    "rasti_visi"
   ]
  },
  {
   "cell_type": "code",
   "execution_count": 13,
   "metadata": {},
   "outputs": [],
   "source": [
    "def validate_email(input):\n",
    "    email_regex = re.compile(r'^[a-zA-Z0-9._%-]+@[a-zA-Z0-9.-]+\\.[a-zA-Z]{2,6}$')\n",
    "    result = email_regex.search(input)\n",
    "    print(result)\n",
    "    if result:\n",
    "        return True\n",
    "    return False"
   ]
  },
  {
   "cell_type": "code",
   "execution_count": 11,
   "metadata": {},
   "outputs": [
    {
     "data": {
      "text/plain": [
       "True"
      ]
     },
     "execution_count": 11,
     "metadata": {},
     "output_type": "execute_result"
    }
   ],
   "source": [
    "validate_email('kestas@midonow.fi')"
   ]
  },
  {
   "cell_type": "code",
   "execution_count": 14,
   "metadata": {},
   "outputs": [
    {
     "name": "stdout",
     "output_type": "stream",
     "text": [
      "<re.Match object; span=(0, 39), match='studentai@codeacademylt.onmicrosoft.com'>\n"
     ]
    },
    {
     "data": {
      "text/plain": [
       "True"
      ]
     },
     "execution_count": 14,
     "metadata": {},
     "output_type": "execute_result"
    }
   ],
   "source": [
    "validate_email('studentai@codeacademylt.onmicrosoft.com')"
>>>>>>> c79da8474236e4b5d787f04f70f9db14f3ec7a30
   ]
  },
  {
   "attachments": {},
   "cell_type": "markdown",
   "metadata": {},
   "source": [
<<<<<<< HEAD
    "#GRUPAVIMAS\n"
=======
    "# Grupavimas"
>>>>>>> c79da8474236e4b5d787f04f70f9db14f3ec7a30
   ]
  },
  {
   "cell_type": "code",
<<<<<<< HEAD
   "execution_count": 10,
=======
   "execution_count": 16,
>>>>>>> c79da8474236e4b5d787f04f70f9db14f3ec7a30
   "metadata": {},
   "outputs": [
    {
     "data": {
      "text/plain": [
       "['Mr.', 'Kestutis', 'Januskevicius']"
      ]
     },
<<<<<<< HEAD
     "execution_count": 10,
=======
     "execution_count": 16,
>>>>>>> c79da8474236e4b5d787f04f70f9db14f3ec7a30
     "metadata": {},
     "output_type": "execute_result"
    }
   ],
   "source": [
<<<<<<< HEAD
    "name = \"Mr. Kestutis Januskevicius\"\n",
=======
    "name = 'Mr. Kestutis Januskevicius'\n",
>>>>>>> c79da8474236e4b5d787f04f70f9db14f3ec7a30
    "vardai = name.split()\n",
    "vardai"
   ]
  },
  {
   "cell_type": "code",
<<<<<<< HEAD
   "execution_count": 16,
   "metadata": {},
   "outputs": [],
   "source": [
    "def split_names(names):\n",
    "    name_filter = re.compile(r'^([A-Z]\\w*\\.) ([A-Z]\\w+) ([A-Z]\\w+)$') # skliausteliuose realiai sugrupuojam, kad paskui galetume su group daryt\n",
    "    filter_result = name_filter.search(name)\n",
    "    if filter_result:\n",
    "        print(f\"\"\"\n",
    "Visa eilutė: {filter_result.group(0)} \n",
    "Kreipinys: {filter_result.group(1)}\n",
    "Vardas: {filter_result.group(2)}\n",
    "Pavarde: {filter_result.group(3)}\n",
    "----------------------------------\n",
    "Tiesiog rez.: {filter_result.group()}\n",
    "Visos: {filter_result.groups()}\n",
    "        \"\"\")\n",
    "    else:\n",
    "        print(\"oooops\")\n",
    "#group 0 ir group() yra same"
=======
   "execution_count": 30,
   "metadata": {},
   "outputs": [],
   "source": [
    "def split_names(name):\n",
    "    name_filter = re.compile(r'^([A-Z]\\w*\\.)\\s([A-Z]\\w+)\\s([A-Z]\\w+)$')\n",
    "    filter_result = name_filter.search(name)\n",
    "    if filter_result:\n",
    "        print(f\"\"\"\n",
    "Visa eilutė:  {filter_result.group(0)}\n",
    "Kreipinys:    {filter_result.group(1)}\n",
    "Vardas:       {filter_result.group(2)}\n",
    "Pavardė:      {filter_result.group(3)}\n",
    "-------------------------------------------------------\n",
    "Str rezult.:  {filter_result.group()}\n",
    "Visos grupės: {filter_result.groups()}\n",
    "\"\"\")\n",
    "    else:\n",
    "        print(\"OOOOOOPS: Blgoas vardas\")"
>>>>>>> c79da8474236e4b5d787f04f70f9db14f3ec7a30
   ]
  },
  {
   "cell_type": "code",
<<<<<<< HEAD
   "execution_count": 17,
=======
   "execution_count": 31,
>>>>>>> c79da8474236e4b5d787f04f70f9db14f3ec7a30
   "metadata": {},
   "outputs": [
    {
     "name": "stdout",
     "output_type": "stream",
     "text": [
      "\n",
<<<<<<< HEAD
      "Visa eilutė: Mr. Kestutis Januskevicius\n",
      "Kreipinys: Mr.\n",
      "Vardas: Kestutis\n",
      "Pavarde: Januskevicius\n",
      "----------------------------------\n",
      "Tiesiog rez.: Mr. Kestutis Januskevicius\n",
      "Visos: ('Mr.', 'Kestutis', 'Januskevicius')\n",
      "        \n"
=======
      "Visa eilutė:  Mr. Kestutis Januskevicius\n",
      "Kreipinys:    Mr.\n",
      "Vardas:       Kestutis\n",
      "Pavardė:      Januskevicius\n",
      "-------------------------------------------------------\n",
      "Str rezult.:  Mr. Kestutis Januskevicius\n",
      "Visos grupės: ('Mr.', 'Kestutis', 'Januskevicius')\n",
      "\n"
>>>>>>> c79da8474236e4b5d787f04f70f9db14f3ec7a30
     ]
    }
   ],
   "source": [
    "split_names(name)"
   ]
  },
  {
   "cell_type": "code",
<<<<<<< HEAD
   "execution_count": 39,
   "metadata": {},
   "outputs": [],
   "source": [
    "def get_title(vardas):\n",
    "    name_filter = re.compile(r'^(?P<title>[A-Z]\\w*\\.) (?P<first_name>[A-Z]\\w+) ([A-Z]\\w+)$') # skliausteliuose realiai sugrupuojam, kad paskui galetume su group daryt\n",
    "    filter_result = name_filter.search(vardas)\n",
    "    if filter_result:\n",
    "        return filter_result.group(1), filter_result.group('first_name')"
=======
   "execution_count": 42,
   "metadata": {},
   "outputs": [],
   "source": [
    "def get_name_components(name):\n",
    "    name_filter = re.compile(r'^(?P<title>[A-Z]\\w*\\.)\\s(?P<first_name>[A-Z]\\w+)\\s(?P<last_name>[A-Z]\\w+)$')\n",
    "    filter_result = name_filter.search(name)\n",
    "    if filter_result:\n",
    "        return filter_result.group(\"title\"), filter_result.group(\"first_name\"), filter_result.group(\"last_name\")"
>>>>>>> c79da8474236e4b5d787f04f70f9db14f3ec7a30
   ]
  },
  {
   "cell_type": "code",
<<<<<<< HEAD
   "execution_count": 40,
=======
   "execution_count": 43,
>>>>>>> c79da8474236e4b5d787f04f70f9db14f3ec7a30
   "metadata": {},
   "outputs": [
    {
     "data": {
      "text/plain": [
<<<<<<< HEAD
       "('Mrs.', 'Airida')"
      ]
     },
     "execution_count": 40,
=======
       "('Mrs.', 'Airida', 'Smalsuolė')"
      ]
     },
     "execution_count": 43,
>>>>>>> c79da8474236e4b5d787f04f70f9db14f3ec7a30
     "metadata": {},
     "output_type": "execute_result"
    }
   ],
   "source": [
<<<<<<< HEAD
    "get_title(\"Mrs. Airida Smalsuole\")"
=======
    "get_name_components(\"Mrs. Airida Smalsuolė\")"
>>>>>>> c79da8474236e4b5d787f04f70f9db14f3ec7a30
   ]
  },
  {
   "attachments": {},
   "cell_type": "markdown",
   "metadata": {},
   "source": [
<<<<<<< HEAD
    "#.Sub()\n"
=======
    "# .sub()"
>>>>>>> c79da8474236e4b5d787f04f70f9db14f3ec7a30
   ]
  },
  {
   "cell_type": "code",
<<<<<<< HEAD
   "execution_count": 46,
=======
   "execution_count": 59,
>>>>>>> c79da8474236e4b5d787f04f70f9db14f3ec7a30
   "metadata": {},
   "outputs": [],
   "source": [
    "def mask_last_name(name):\n",
<<<<<<< HEAD
    "    name_filter = re.compile(r'^(?P<title>[A-Z]\\w*\\.) (?P<first_name>[A-Z]\\w+) ([A-Z]\\w+)$') # skliausteliuose realiai sugrupuojam, kad paskui galetume su group daryt\n",
    "    filter_result = name_filter.search(name)\n",
    "    if filter_result:\n",
    "        return name_filter.sub('\\g<title> \\g<first_name> *****', name) #su \\g iskvieciam grupe"
=======
    "    name_filter = re.compile(r'^(?P<title>[A-Z]\\w*\\.)\\s(?P<first_name>[A-Z]\\w+)\\s(?P<last_name>[A-Z]\\w+)$')\n",
    "    filter_result = name_filter.search(name)\n",
    "    if filter_result:\n",
    "        return name_filter.sub(r'title: \\g<title>, name: \\g<first_name>, last_name: ********', name)"
>>>>>>> c79da8474236e4b5d787f04f70f9db14f3ec7a30
   ]
  },
  {
   "cell_type": "code",
<<<<<<< HEAD
   "execution_count": 47,
=======
   "execution_count": 60,
>>>>>>> c79da8474236e4b5d787f04f70f9db14f3ec7a30
   "metadata": {},
   "outputs": [
    {
     "data": {
      "text/plain": [
<<<<<<< HEAD
       "'Ms. Egle *****'"
      ]
     },
     "execution_count": 47,
=======
       "'title: Ms., name: Eglė, last_name: ********'"
      ]
     },
     "execution_count": 60,
>>>>>>> c79da8474236e4b5d787f04f70f9db14f3ec7a30
     "metadata": {},
     "output_type": "execute_result"
    }
   ],
   "source": [
<<<<<<< HEAD
    "mask_last_name('Ms. Egle Slapuke')"
=======
    "mask_last_name('Ms. Eglė Slapukė')"
   ]
  },
  {
   "cell_type": "code",
   "execution_count": 69,
   "metadata": {},
   "outputs": [
    {
     "name": "stdout",
     "output_type": "stream",
     "text": [
      "Trumpas tekstas apie \t betką IR.. belenkaip, \n",
      "ir apie viską.\n"
     ]
    }
   ],
   "source": [
    "tekstas = \"Trumpas tekstas apie \\t betką IR.. belenkaip, \\r\\nir apie viską.\"\n",
    "print(tekstas)"
>>>>>>> c79da8474236e4b5d787f04f70f9db14f3ec7a30
   ]
  },
  {
   "attachments": {},
   "cell_type": "markdown",
   "metadata": {},
   "source": [
<<<<<<< HEAD
    "## Flagai"
=======
    "# Flag'ai"
>>>>>>> c79da8474236e4b5d787f04f70f9db14f3ec7a30
   ]
  },
  {
   "cell_type": "code",
<<<<<<< HEAD
   "execution_count": 58,
   "metadata": {},
   "outputs": [
    {
     "data": {
      "text/plain": [
       "'Trumpas tekstas apie \\t betka IR belenkaip, \\nir apie viska.'"
      ]
     },
     "execution_count": 58,
     "metadata": {},
     "output_type": "execute_result"
    }
   ],
   "source": [
    "tekstas = \"Trumpas tekstas apie \\t betka IR belenkaip, \\nir apie viska.\"\n",
    "tekstas"
   ]
  },
  {
   "cell_type": "code",
   "execution_count": 51,
=======
   "execution_count": 70,
>>>>>>> c79da8474236e4b5d787f04f70f9db14f3ec7a30
   "metadata": {},
   "outputs": [
    {
     "data": {
      "text/plain": [
       "['IR', 'ir']"
      ]
     },
<<<<<<< HEAD
     "execution_count": 51,
=======
     "execution_count": 70,
>>>>>>> c79da8474236e4b5d787f04f70f9db14f3ec7a30
     "metadata": {},
     "output_type": "execute_result"
    }
   ],
   "source": [
<<<<<<< HEAD
    "word_filter = re.compile(r'\\bir\\b', re.IGNORECASE) #randa ir dideles ir mazas, nors ieskojom tik mazosios\n",
=======
    "word_filter = re.compile(r'\\bir\\b', re.IGNORECASE)\n",
>>>>>>> c79da8474236e4b5d787f04f70f9db14f3ec7a30
    "found = word_filter.findall(tekstas)\n",
    "found"
   ]
  },
  {
   "cell_type": "code",
<<<<<<< HEAD
   "execution_count": 60,
=======
   "execution_count": 81,
>>>>>>> c79da8474236e4b5d787f04f70f9db14f3ec7a30
   "metadata": {},
   "outputs": [
    {
     "name": "stdout",
     "output_type": "stream",
     "text": [
      "['Trumpas']\n",
      "['Trumpas', 'ir']\n"
     ]
    }
   ],
   "source": [
    "words_in_line_filter = re.compile(r'^\\w+')\n",
    "words_in_lines_filter = re.compile(r'^\\w+', re.MULTILINE)\n",
<<<<<<< HEAD
    "found = words_in_line_filter.findall(tekstas)\n",
    "found_all = words_in_lines_filter.findall(tekstas)\n",
    "print(found)\n",
=======
    "\n",
    "found_1 = words_in_line_filter.findall(tekstas)\n",
    "found_all = words_in_lines_filter.findall(tekstas)\n",
    "\n",
    "print(found_1)\n",
>>>>>>> c79da8474236e4b5d787f04f70f9db14f3ec7a30
    "print(found_all)"
   ]
  },
  {
   "cell_type": "code",
<<<<<<< HEAD
   "execution_count": 66,
=======
   "execution_count": 90,
>>>>>>> c79da8474236e4b5d787f04f70f9db14f3ec7a30
   "metadata": {},
   "outputs": [
    {
     "name": "stdout",
     "output_type": "stream",
     "text": [
<<<<<<< HEAD
      "cegeE Dr. mastEr\n"
=======
      "regex mAster\n"
>>>>>>> c79da8474236e4b5d787f04f70f9db14f3ec7a30
     ]
    }
   ],
   "source": [
    "name_filter = re.compile(r'''\n",
<<<<<<< HEAD
    "^                          #eilutes pradzia\n",
    "(?P<title>[A-Z]\\w*\\.)       # kreipinys\n",
    "\\s\n",
    "(?P<first_name>[A-Z]\\w+)     # vardo grupe\n",
    "\\s\n",
    "([A-Z]\\w+)                   #pavardes grupe\n",
    "$\n",
    "''', re.VERBOSE | re.IGNORECASE)\n",
    "\n",
    "result = name_filter.search('Dr. cegeE mastEr')\n",
    "print(result.group('first_name'), result.group(1), result.group(3))"
=======
    "^                           # eilutės pradžia\n",
    "(?P<title>[A-Z]\\w*\\.)       # kreipinio grupė\n",
    "\\s                          # tarpas\n",
    "(?P<first_name>[A-Z]\\w+)    # vardo grupė\n",
    "\\s                          # tarpas\n",
    "(?P<last_name>[A-Z]\\w+)     # pavardės grupė\n",
    "$\n",
    "''', re.VERBOSE | re.IGNORECASE)\n",
    "\n",
    "result = name_filter.search(\"dr. regex mAster\")\n",
    "print(result.group(\"first_name\"), result.group(\"last_name\"))"
>>>>>>> c79da8474236e4b5d787f04f70f9db14f3ec7a30
   ]
  }
 ],
 "metadata": {
  "kernelspec": {
<<<<<<< HEAD
   "display_name": "Python 3",
=======
   "display_name": "venv",
>>>>>>> c79da8474236e4b5d787f04f70f9db14f3ec7a30
   "language": "python",
   "name": "python3"
  },
  "language_info": {
   "codemirror_mode": {
    "name": "ipython",
    "version": 3
   },
   "file_extension": ".py",
   "mimetype": "text/x-python",
   "name": "python",
   "nbconvert_exporter": "python",
   "pygments_lexer": "ipython3",
<<<<<<< HEAD
   "version": "3.11.1"
=======
   "version": "3.8.10"
>>>>>>> c79da8474236e4b5d787f04f70f9db14f3ec7a30
  },
  "orig_nbformat": 4,
  "vscode": {
   "interpreter": {
<<<<<<< HEAD
    "hash": "aee8b7b246df8f9039afb4144a1f6fd8d2ca17a180786b69acc140d282b71a49"
=======
    "hash": "fb638a7611dd751c98c4868f8b07efdb6561848469f9a017ff0265dbc4e7eaf7"
>>>>>>> c79da8474236e4b5d787f04f70f9db14f3ec7a30
   }
  }
 },
 "nbformat": 4,
 "nbformat_minor": 2
}

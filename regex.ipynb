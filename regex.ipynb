{
 "cells": [
  {
   "cell_type": "code",
   "execution_count": null,
   "metadata": {},
   "outputs": [],
   "source": [
    "#All words that start with ONE upper case: \"\\b[A-ZĄČĘĖĮŠŲŪ][a-ząčęėįšųū]+\\b\"\n",
    "#All uppercase words: \\b[A-ZĄČĘĖĮŠŲŪ][A-Z2]+\\b\n",
    "# Exact numbers 1663 AND 1884 : \\b1633|1884\\b\n",
    "# Exact numbers +370 2 333 1234: \\+\\d{3} \\d{1} \\d{3} \\d{4}\n",
    "#Faksas: \\(\\d{1} \\d{1}\\) \\d{3} \\d{4}\n",
    "#Saskaitai: \\LT\\d{2} \\d{4} \\d{4} \\d{4} \\d{4}\n",
    "#PVM kodas: \\LT\\d{9}\n",
    "# Before a specific char(in this case \":\"): .+?(?=:) \n",
    "# mail: ([a-z0-9_\\.\\+-]+)@([\\da-z\\.-]+)\\.([a-z\\.]{2,6})\n"
   ]
  },
  {
   "cell_type": "code",
   "execution_count": 1,
   "metadata": {},
   "outputs": [],
   "source": [
    "import re"
   ]
  },
  {
   "cell_type": "code",
   "execution_count": 2,
   "metadata": {},
   "outputs": [],
   "source": [
    "telefono_nr = re.compile(r'\\+370 \\d{3} \\d{5}')"
   ]
  },
  {
   "cell_type": "code",
   "execution_count": 3,
   "metadata": {},
   "outputs": [],
   "source": [
    "tekstas = '''Pirmas telefono numeris yra +370 123 12321, antras +370 321 10101.'''"
   ]
  },
  {
   "cell_type": "code",
   "execution_count": 4,
   "metadata": {},
   "outputs": [
    {
     "data": {
      "text/plain": [
       "<re.Match object; span=(28, 42), match='+370 123 12321'>"
      ]
     },
     "execution_count": 4,
     "metadata": {},
     "output_type": "execute_result"
    }
   ],
   "source": [
    "rastas_vienas = telefono_nr.search(tekstas)\n",
    "rastas_vienas"
   ]
  },
  {
   "cell_type": "code",
   "execution_count": 5,
   "metadata": {},
   "outputs": [
    {
     "data": {
      "text/plain": [
       "'+370 123 12321'"
      ]
     },
     "execution_count": 5,
     "metadata": {},
     "output_type": "execute_result"
    }
   ],
   "source": [
    "rastas_vienas.group()"
   ]
  },
  {
   "cell_type": "code",
   "execution_count": 6,
   "metadata": {},
   "outputs": [
    {
     "data": {
      "text/plain": [
       "['+370 123 12321', '+370 321 10101']"
      ]
     },
     "execution_count": 6,
     "metadata": {},
     "output_type": "execute_result"
    }
   ],
   "source": [
    "rasti_visi = telefono_nr.findall(tekstas)\n",
    "rasti_visi"
   ]
  },
  {
   "cell_type": "code",
   "execution_count": 7,
   "metadata": {},
   "outputs": [],
   "source": [
    "def validate_email(input):\n",
    "    email_regex = re.compile(r'^[a-zA-Z0-9._%-]+@[a-zA-Z0-9.-]+\\.[a-zA-Z]{2,6}$')\n",
    "    result = email_regex.search(input)\n",
    "    if result:\n",
    "        return True\n",
    "    return False"
   ]
  },
  {
   "cell_type": "code",
   "execution_count": 8,
   "metadata": {},
   "outputs": [
    {
     "data": {
      "text/plain": [
       "True"
      ]
     },
     "execution_count": 8,
     "metadata": {},
     "output_type": "execute_result"
    }
   ],
   "source": [
    "validate_email('egle@gmail.com')"
   ]
  },
  {
   "cell_type": "code",
   "execution_count": 9,
   "metadata": {},
   "outputs": [
    {
     "data": {
      "text/plain": [
       "False"
      ]
     },
     "execution_count": 9,
     "metadata": {},
     "output_type": "execute_result"
    }
   ],
   "source": [
    "validate_email('stuedentai@@gd/rd')"
   ]
  },
  {
   "attachments": {},
   "cell_type": "markdown",
   "metadata": {},
   "source": [
    "#GRUPAVIMAS\n"
   ]
  },
  {
   "cell_type": "code",
   "execution_count": 10,
   "metadata": {},
   "outputs": [
    {
     "data": {
      "text/plain": [
       "['Mr.', 'Kestutis', 'Januskevicius']"
      ]
     },
     "execution_count": 10,
     "metadata": {},
     "output_type": "execute_result"
    }
   ],
   "source": [
    "name = \"Mr. Kestutis Januskevicius\"\n",
    "vardai = name.split()\n",
    "vardai"
   ]
  },
  {
   "cell_type": "code",
   "execution_count": 16,
   "metadata": {},
   "outputs": [],
   "source": [
    "def split_names(names):\n",
    "    name_filter = re.compile(r'^([A-Z]\\w*\\.) ([A-Z]\\w+) ([A-Z]\\w+)$') # skliausteliuose realiai sugrupuojam, kad paskui galetume su group daryt\n",
    "    filter_result = name_filter.search(name)\n",
    "    if filter_result:\n",
    "        print(f\"\"\"\n",
    "Visa eilutė: {filter_result.group(0)} \n",
    "Kreipinys: {filter_result.group(1)}\n",
    "Vardas: {filter_result.group(2)}\n",
    "Pavarde: {filter_result.group(3)}\n",
    "----------------------------------\n",
    "Tiesiog rez.: {filter_result.group()}\n",
    "Visos: {filter_result.groups()}\n",
    "        \"\"\")\n",
    "    else:\n",
    "        print(\"oooops\")\n",
    "#group 0 ir group() yra same"
   ]
  },
  {
   "cell_type": "code",
   "execution_count": 17,
   "metadata": {},
   "outputs": [
    {
     "name": "stdout",
     "output_type": "stream",
     "text": [
      "\n",
      "Visa eilutė: Mr. Kestutis Januskevicius\n",
      "Kreipinys: Mr.\n",
      "Vardas: Kestutis\n",
      "Pavarde: Januskevicius\n",
      "----------------------------------\n",
      "Tiesiog rez.: Mr. Kestutis Januskevicius\n",
      "Visos: ('Mr.', 'Kestutis', 'Januskevicius')\n",
      "        \n"
     ]
    }
   ],
   "source": [
    "split_names(name)"
   ]
  },
  {
   "cell_type": "code",
   "execution_count": 39,
   "metadata": {},
   "outputs": [],
   "source": [
    "def get_title(vardas):\n",
    "    name_filter = re.compile(r'^(?P<title>[A-Z]\\w*\\.) (?P<first_name>[A-Z]\\w+) ([A-Z]\\w+)$') # skliausteliuose realiai sugrupuojam, kad paskui galetume su group daryt\n",
    "    filter_result = name_filter.search(vardas)\n",
    "    if filter_result:\n",
    "        return filter_result.group(1), filter_result.group('first_name')"
   ]
  },
  {
   "cell_type": "code",
   "execution_count": 40,
   "metadata": {},
   "outputs": [
    {
     "data": {
      "text/plain": [
       "('Mrs.', 'Airida')"
      ]
     },
     "execution_count": 40,
     "metadata": {},
     "output_type": "execute_result"
    }
   ],
   "source": [
    "get_title(\"Mrs. Airida Smalsuole\")"
   ]
  },
  {
   "attachments": {},
   "cell_type": "markdown",
   "metadata": {},
   "source": [
    "#.Sub()\n"
   ]
  },
  {
   "cell_type": "code",
   "execution_count": 46,
   "metadata": {},
   "outputs": [],
   "source": [
    "def mask_last_name(name):\n",
    "    name_filter = re.compile(r'^(?P<title>[A-Z]\\w*\\.) (?P<first_name>[A-Z]\\w+) ([A-Z]\\w+)$') # skliausteliuose realiai sugrupuojam, kad paskui galetume su group daryt\n",
    "    filter_result = name_filter.search(name)\n",
    "    if filter_result:\n",
    "        return name_filter.sub('\\g<title> \\g<first_name> *****', name) #su \\g iskvieciam grupe"
   ]
  },
  {
   "cell_type": "code",
   "execution_count": 47,
   "metadata": {},
   "outputs": [
    {
     "data": {
      "text/plain": [
       "'Ms. Egle *****'"
      ]
     },
     "execution_count": 47,
     "metadata": {},
     "output_type": "execute_result"
    }
   ],
   "source": [
    "mask_last_name('Ms. Egle Slapuke')"
   ]
  },
  {
   "attachments": {},
   "cell_type": "markdown",
   "metadata": {},
   "source": [
    "## Flagai"
   ]
  },
  {
   "cell_type": "code",
   "execution_count": 58,
   "metadata": {},
   "outputs": [
    {
     "data": {
      "text/plain": [
       "'Trumpas tekstas apie \\t betka IR belenkaip, \\nir apie viska.'"
      ]
     },
     "execution_count": 58,
     "metadata": {},
     "output_type": "execute_result"
    }
   ],
   "source": [
    "tekstas = \"Trumpas tekstas apie \\t betka IR belenkaip, \\nir apie viska.\"\n",
    "tekstas"
   ]
  },
  {
   "cell_type": "code",
   "execution_count": 51,
   "metadata": {},
   "outputs": [
    {
     "data": {
      "text/plain": [
       "['IR', 'ir']"
      ]
     },
     "execution_count": 51,
     "metadata": {},
     "output_type": "execute_result"
    }
   ],
   "source": [
    "word_filter = re.compile(r'\\bir\\b', re.IGNORECASE) #randa ir dideles ir mazas, nors ieskojom tik mazosios\n",
    "found = word_filter.findall(tekstas)\n",
    "found"
   ]
  },
  {
   "cell_type": "code",
   "execution_count": 60,
   "metadata": {},
   "outputs": [
    {
     "name": "stdout",
     "output_type": "stream",
     "text": [
      "['Trumpas']\n",
      "['Trumpas', 'ir']\n"
     ]
    }
   ],
   "source": [
    "words_in_line_filter = re.compile(r'^\\w+')\n",
    "words_in_lines_filter = re.compile(r'^\\w+', re.MULTILINE)\n",
    "found = words_in_line_filter.findall(tekstas)\n",
    "found_all = words_in_lines_filter.findall(tekstas)\n",
    "print(found)\n",
    "print(found_all)"
   ]
  },
  {
   "cell_type": "code",
   "execution_count": 66,
   "metadata": {},
   "outputs": [
    {
     "name": "stdout",
     "output_type": "stream",
     "text": [
      "cegeE Dr. mastEr\n"
     ]
    }
   ],
   "source": [
    "name_filter = re.compile(r'''\n",
    "^                          #eilutes pradzia\n",
    "(?P<title>[A-Z]\\w*\\.)       # kreipinys\n",
    "\\s\n",
    "(?P<first_name>[A-Z]\\w+)     # vardo grupe\n",
    "\\s\n",
    "([A-Z]\\w+)                   #pavardes grupe\n",
    "$\n",
    "''', re.VERBOSE | re.IGNORECASE)\n",
    "\n",
    "result = name_filter.search('Dr. cegeE mastEr')\n",
    "print(result.group('first_name'), result.group(1), result.group(3))"
   ]
  }
 ],
 "metadata": {
  "kernelspec": {
   "display_name": "Python 3",
   "language": "python",
   "name": "python3"
  },
  "language_info": {
   "codemirror_mode": {
    "name": "ipython",
    "version": 3
   },
   "file_extension": ".py",
   "mimetype": "text/x-python",
   "name": "python",
   "nbconvert_exporter": "python",
   "pygments_lexer": "ipython3",
   "version": "3.11.1"
  },
  "orig_nbformat": 4,
  "vscode": {
   "interpreter": {
    "hash": "aee8b7b246df8f9039afb4144a1f6fd8d2ca17a180786b69acc140d282b71a49"
   }
  }
 },
 "nbformat": 4,
 "nbformat_minor": 2
}

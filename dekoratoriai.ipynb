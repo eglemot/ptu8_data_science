{
 "cells": [
  {
   "attachments": {},
   "cell_type": "markdown",
   "metadata": {},
   "source": [
    "# Dekoratoriai"
   ]
  },
  {
   "cell_type": "code",
   "execution_count": 1,
   "metadata": {},
   "outputs": [],
   "source": [
    "def return_string(obj):\n",
    "    return str(obj)"
   ]
  },
  {
   "cell_type": "code",
   "execution_count": 6,
   "metadata": {},
   "outputs": [],
   "source": [
    "def return_reversed_string(text):\n",
    "    return text[::-1]"
   ]
  },
  {
   "cell_type": "code",
   "execution_count": 4,
   "metadata": {},
   "outputs": [],
   "source": [
    "def return_upper_string(text, func):\n",
    "    if type(text) != str:\n",
    "        raise ValueError('text must be string')\n",
    "    processed_text = func(text)\n",
    "    return processed_text.upper()"
   ]
  },
  {
   "cell_type": "code",
   "execution_count": 5,
   "metadata": {},
   "outputs": [
    {
     "name": "stdout",
     "output_type": "stream",
     "text": [
      "HIGHER ORDER FUNCION!\n"
     ]
    }
   ],
   "source": [
    "print(return_upper_string('Higher order funcion!', return_string))"
   ]
  },
  {
   "cell_type": "code",
   "execution_count": 7,
   "metadata": {},
   "outputs": [
    {
     "name": "stdout",
     "output_type": "stream",
     "text": [
      "!NOICNUF REDRO REHGIH\n"
     ]
    }
   ],
   "source": [
    "print(return_upper_string('Higher order funcion!', return_reversed_string))"
   ]
  },
  {
   "cell_type": "code",
   "execution_count": 8,
   "metadata": {},
   "outputs": [],
   "source": [
    "def upper_decorator(func):\n",
    "    def wrapper(text):\n",
    "        if type(text) != str:\n",
    "            raise ValueError('text must be a string')\n",
    "        result_text = func(text)\n",
    "        return result_text.upper()\n",
    "    return wrapper"
   ]
  },
  {
   "cell_type": "code",
   "execution_count": 9,
   "metadata": {},
   "outputs": [],
   "source": [
    "@upper_decorator\n",
    "def return_reversed_string(text):\n",
    "    return text[::-1]\n"
   ]
  },
  {
   "cell_type": "code",
   "execution_count": 12,
   "metadata": {},
   "outputs": [
    {
     "data": {
      "text/plain": [
       "'?TOTARPUS AKSIV'"
      ]
     },
     "execution_count": 12,
     "metadata": {},
     "output_type": "execute_result"
    }
   ],
   "source": [
    "return_reversed_string('viska supratot?')"
   ]
  },
  {
   "cell_type": "code",
   "execution_count": 18,
   "metadata": {},
   "outputs": [],
   "source": [
    "class UzsakymoEilute:\n",
    "    def __init__(self, produktas, kaina, kiekis=1) -> None:\n",
    "        self.produktas = produktas\n",
    "        self.kaina = kaina\n",
    "        self.kiekis = kiekis\n",
    "\n",
    "    def __str__(self) -> str:\n",
    "        return f'{self.produktas:20s} | {self.kiekis:5d} x {self.kaina:10.2f} = {self.suma:10.2f}'\n",
    "\n",
    "    @property\n",
    "    def suma(self):\n",
    "        return self.kiekis * self.kaina"
   ]
  },
  {
   "cell_type": "code",
   "execution_count": 19,
   "metadata": {},
   "outputs": [
    {
     "name": "stdout",
     "output_type": "stream",
     "text": [
      "Arbata               |   100 x       2.00 =     200.00\n"
     ]
    },
    {
     "data": {
      "text/plain": [
       "200"
      ]
     },
     "execution_count": 19,
     "metadata": {},
     "output_type": "execute_result"
    }
   ],
   "source": [
    "e1 = UzsakymoEilute(\"Arbata\", 2, 100)\n",
    "print(e1)\n",
    "e1.suma"
   ]
  },
  {
   "cell_type": "code",
   "execution_count": 21,
   "metadata": {},
   "outputs": [
    {
     "name": "stdout",
     "output_type": "stream",
     "text": [
      "Kava                 |    11 x       3.49 =      38.39\n"
     ]
    },
    {
     "data": {
      "text/plain": [
       "38.39"
      ]
     },
     "execution_count": 21,
     "metadata": {},
     "output_type": "execute_result"
    }
   ],
   "source": [
    "e2 = UzsakymoEilute(\"Kava\", 3.49, 11)\n",
    "print(e2)\n",
    "e2.suma"
   ]
  },
  {
   "cell_type": "code",
   "execution_count": 74,
   "metadata": {},
   "outputs": [],
   "source": [
    "from time import time\n",
    "def performance(fn):\n",
    "    def wrapper(*args, **kwargs):\n",
    "        t1 = time()\n",
    "        result = fn(*args, **kwargs)\n",
    "        t2 = time()\n",
    "        diff = t2 - t1\n",
    "        # print(f\"It took {diff}\")\n",
    "        return result, diff\n",
    "    return wrapper"
   ]
  },
  {
   "cell_type": "code",
   "execution_count": 75,
   "metadata": {},
   "outputs": [],
   "source": [
    "@performance\n",
    "def imtis(nuo, iki, zingsnis=1):\n",
    "    while nuo < iki:\n",
    "        yield nuo\n",
    "        nuo += zingsnis"
   ]
  },
  {
   "cell_type": "code",
   "execution_count": 79,
   "metadata": {},
   "outputs": [
    {
     "data": {
      "text/plain": [
       "2.6702880859375e-07"
      ]
     },
     "execution_count": 79,
     "metadata": {},
     "output_type": "execute_result"
    }
   ],
   "source": [
    "from statistics import mean\n",
    "bandymai = []\n",
    "for bandymas in range(0, 100):\n",
    "    skaiciai = imtis(1, 10000000, 3)\n",
    "    bandymai.append(skaiciai[1])\n",
    "mean(bandymai)"
   ]
  },
  {
   "cell_type": "code",
   "execution_count": 53,
   "metadata": {},
   "outputs": [
    {
     "name": "stdout",
     "output_type": "stream",
     "text": [
      "1675338961.1711726\n"
     ]
    }
   ],
   "source": [
    "print(time())"
   ]
  },
  {
   "cell_type": "code",
   "execution_count": 139,
   "metadata": {},
   "outputs": [],
   "source": [
    "from functools import wraps\n",
    "\n",
    "def lyginis_nelyginis(fn):\n",
    "    @wraps(fn)\n",
    "    def wrapper(*args, **kwargs):\n",
    "        \"\"\"Aš esu šventasis apvalkalas\"\"\"\n",
    "        result = fn(*args, **kwargs)\n",
    "        if result % 2 == 0:\n",
    "            return result, 'lyginis'\n",
    "        else:\n",
    "            return result, 'nelyginis'\n",
    "    return wrapper"
   ]
  },
  {
   "cell_type": "code",
   "execution_count": 140,
   "metadata": {},
   "outputs": [],
   "source": [
    "@lyginis_nelyginis\n",
    "def give_me_10():\n",
    "    \"\"\"grąžina 10\"\"\"\n",
    "    return 10\n",
    "\n",
    "@lyginis_nelyginis\n",
    "def multiply(x, y):\n",
    "    return x * y\n",
    "\n",
    "@lyginis_nelyginis\n",
    "def sum_all(*args):\n",
    "    return sum(args)\n"
   ]
  },
  {
   "cell_type": "code",
   "execution_count": 131,
   "metadata": {},
   "outputs": [
    {
     "data": {
      "text/plain": [
       "(10, 'lyginis')"
      ]
     },
     "execution_count": 131,
     "metadata": {},
     "output_type": "execute_result"
    }
   ],
   "source": [
    "give_me_10()"
   ]
  },
  {
   "cell_type": "code",
   "execution_count": 132,
   "metadata": {},
   "outputs": [
    {
     "data": {
      "text/plain": [
       "(27, 'nelyginis')"
      ]
     },
     "execution_count": 132,
     "metadata": {},
     "output_type": "execute_result"
    }
   ],
   "source": [
    "multiply(3, 9)"
   ]
  },
  {
   "cell_type": "code",
   "execution_count": 133,
   "metadata": {},
   "outputs": [
    {
     "data": {
      "text/plain": [
       "(45, 'nelyginis')"
      ]
     },
     "execution_count": 133,
     "metadata": {},
     "output_type": "execute_result"
    }
   ],
   "source": [
    "sum_all(1, 2, 3, 4, 5, 6, 7, 8, 9)"
   ]
  },
  {
   "cell_type": "code",
   "execution_count": 98,
   "metadata": {},
   "outputs": [],
   "source": [
    "from random import Random\n",
    "\n",
    "class Belenkas(Random):\n",
    "    @performance\n",
    "    def randint(self, a: int, b: int) -> int:\n",
    "        return super().randint(a, b)"
   ]
  },
  {
   "cell_type": "code",
   "execution_count": 120,
   "metadata": {},
   "outputs": [
    {
     "data": {
      "text/plain": [
       "(-15014833, 1.0967254638671875e-05)"
      ]
     },
     "execution_count": 120,
     "metadata": {},
     "output_type": "execute_result"
    }
   ],
   "source": [
    "random_inst = Belenkas()\n",
    "random_inst.randint(-100000000, 100000000)"
   ]
  },
  {
   "cell_type": "code",
   "execution_count": 136,
   "metadata": {},
   "outputs": [
    {
     "name": "stdout",
     "output_type": "stream",
     "text": [
      "give_me_10\n",
      "grąžina 10\n"
     ]
    }
   ],
   "source": [
    "print(give_me_10.__name__)\n",
    "print(give_me_10.__doc__)"
   ]
  },
  {
   "cell_type": "code",
   "execution_count": 144,
   "metadata": {},
   "outputs": [],
   "source": [
    "from time import sleep\n",
    "from functools import wraps\n",
    "\n",
    "def uzvelaviams(sekundes):\n",
    "    def uzvelaviams(fn):\n",
    "        @wraps(fn)\n",
    "        def wrapper(*args, **kwargs):\n",
    "            print(f\"Funkcija bus atidėta {sekundes} sekundėms\")\n",
    "            sleep(sekundes)\n",
    "            return fn(*args, **kwargs)\n",
    "        return wrapper\n",
    "    return uzvelaviams\n"
   ]
  },
  {
   "cell_type": "code",
   "execution_count": 153,
   "metadata": {},
   "outputs": [],
   "source": [
    "def args_counter(fn):\n",
    "    @wraps(fn)\n",
    "    def wrapper(*args, **kwargs):\n",
    "        print(f\"Args: {len(args)}, kwargs: {len(kwargs)}\")\n",
    "        return fn(*args, **kwargs)\n",
    "    return wrapper"
   ]
  },
  {
   "cell_type": "code",
   "execution_count": 154,
   "metadata": {},
   "outputs": [],
   "source": [
    "@performance\n",
    "@uzvelaviams(2.5)\n",
    "@args_counter\n",
    "def skaiciu_suma(*args):\n",
    "    suma = sum(args)\n",
    "    print(f\"Skaičių suma: {suma}\")\n",
    "    return suma"
   ]
  },
  {
   "cell_type": "code",
   "execution_count": 155,
   "metadata": {},
   "outputs": [
    {
     "name": "stdout",
     "output_type": "stream",
     "text": [
      "Funkcija bus atidėta 2.5 sekundėms\n",
      "Args: 7, kwargs: 0\n",
      "Skaičių suma: 28\n"
     ]
    },
    {
     "data": {
      "text/plain": [
       "(28, 2.5023159980773926)"
      ]
     },
     "execution_count": 155,
     "metadata": {},
     "output_type": "execute_result"
    }
   ],
   "source": [
    "skaiciu_suma(1, 2, 3, 4, 5, 6, 7)"
   ]
  },
  {
   "attachments": {},
   "cell_type": "markdown",
   "metadata": {},
   "source": [
    "# set/get metodai"
   ]
  },
  {
   "cell_type": "code",
   "execution_count": 15,
   "metadata": {},
   "outputs": [
    {
     "data": {
      "text/plain": [
       "1000"
      ]
     },
     "execution_count": 15,
     "metadata": {},
     "output_type": "execute_result"
    }
   ],
   "source": [
    "class Darbuotojas:\n",
    "    vardas = \"\"\n",
    "    pavarde = \"\"\n",
    "    __atlyginimas = 0\n",
    "\n",
    "    def __init__(self, **kwargs):\n",
    "        for name, kwarg in kwargs.items():\n",
    "            setattr(self, name, kwarg)\n",
    "\n",
    "    def set_atlyginimas(self, naujas):\n",
    "        if naujas > 0:\n",
    "            self.__atlyginimas = naujas\n",
    "        else:\n",
    "            raise ValueError('Atlyginimas turi būti teigiamas')\n",
    "\n",
    "    def get_atlyginimas(self):\n",
    "        return self.__atlyginimas\n",
    "\n",
    "destytojas = Darbuotojas(vardas=\"Kestutis\", pavarde=\"Januskevicius\")\n",
    "destytojas.set_atlyginimas(1000)\n",
    "destytojas.get_atlyginimas()"
   ]
  },
  {
   "cell_type": "code",
   "execution_count": 26,
   "metadata": {},
   "outputs": [],
   "source": [
    "class Darbuotojas:\n",
    "    vardas = \"\"\n",
    "    pavarde = \"\"\n",
    "    atlyginimas = 0\n",
    "\n",
    "    def __init__(self, **kwargs):\n",
    "        for name, kwarg in kwargs.items():\n",
    "            setattr(self, name, kwarg)\n",
    "\n",
    "    @property\n",
    "    def atlyginimas(self):\n",
    "        return self.__atlyginimas\n",
    "\n",
    "    @atlyginimas.setter\n",
    "    def atlyginimas(self, naujas):\n",
    "        if (type(naujas) == int or type(naujas) == float) and naujas >= 0:\n",
    "            self.__atlyginimas = naujas\n",
    "        else:\n",
    "            raise ValueError('Atlyginimas turi būti teigiamas skaičius')\n",
    "\n",
    "    def __str__(self) -> str:\n",
    "        return f\"{self.vardas} {self.pavarde} gauna {self.atlyginimas}\"\n"
   ]
  },
  {
   "cell_type": "code",
   "execution_count": 31,
   "metadata": {},
   "outputs": [
    {
     "name": "stdout",
     "output_type": "stream",
     "text": [
      "Eglė Motiejūnaitė gauna 3333\n",
      "Tinginys Benamis gauna 100\n",
      "Tinginys Benamis gauna 100.001\n"
     ]
    }
   ],
   "source": [
    "egle = Darbuotojas(vardas=\"Eglė\", pavarde=\"Motiejūnaitė\", atlyginimas=3333)\n",
    "print(egle)\n",
    "\n",
    "vargelis = Darbuotojas(vardas=\"Tinginys\", pavarde=\"Benamis\", atlyginimas=100)\n",
    "print(vargelis)\n",
    "vargelis.atlyginimas = 100.001\n",
    "print(vargelis)\n"
   ]
  }
 ],
 "metadata": {
  "kernelspec": {
   "display_name": "venv",
   "language": "python",
   "name": "python3"
  },
  "language_info": {
   "codemirror_mode": {
    "name": "ipython",
    "version": 3
   },
   "file_extension": ".py",
   "mimetype": "text/x-python",
   "name": "python",
   "nbconvert_exporter": "python",
   "pygments_lexer": "ipython3",
   "version": "3.8.10"
  },
  "orig_nbformat": 4,
  "vscode": {
   "interpreter": {
    "hash": "fb638a7611dd751c98c4868f8b07efdb6561848469f9a017ff0265dbc4e7eaf7"
   }
  }
 },
 "nbformat": 4,
 "nbformat_minor": 2
}

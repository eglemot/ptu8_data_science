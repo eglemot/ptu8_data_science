{
 "cells": [
  {
   "cell_type": "code",
   "execution_count": 1,
   "metadata": {},
   "outputs": [],
   "source": [
    "import pandas as pd\n",
    "import numpy as np"
   ]
  },
  {
   "attachments": {},
   "cell_type": "markdown",
   "metadata": {},
   "source": [
    "# Serijos"
   ]
  },
  {
   "cell_type": "code",
   "execution_count": 5,
   "metadata": {},
   "outputs": [
    {
     "data": {
      "text/plain": [
       "0    10\n",
       "1    20\n",
       "2    30\n",
       "3    25\n",
       "dtype: int64"
      ]
     },
     "execution_count": 5,
     "metadata": {},
     "output_type": "execute_result"
    }
   ],
   "source": [
    "labels = ['W', 'X', 'Y', 'Z']\n",
    "data = [10, 20, 30, 25]\n",
    "pandos_serija = pd.Series(data=data)\n",
    "pandos_serija"
   ]
  },
  {
   "cell_type": "code",
   "execution_count": 7,
   "metadata": {},
   "outputs": [
    {
     "data": {
      "text/plain": [
       "W    10\n",
       "X    20\n",
       "Y    30\n",
       "Z    25\n",
       "dtype: int64"
      ]
     },
     "execution_count": 7,
     "metadata": {},
     "output_type": "execute_result"
    }
   ],
   "source": [
    "suvardinta_serija = pd.Series(data=data, index=labels)\n",
    "suvardinta_serija"
   ]
  },
  {
   "cell_type": "code",
   "execution_count": 11,
   "metadata": {},
   "outputs": [
    {
     "data": {
      "text/plain": [
       "vardas          Kestutis\n",
       "pavarde    Linksmavicius\n",
       "amzius                40\n",
       "busena             gyvas\n",
       "dtype: object"
      ]
     },
     "execution_count": 11,
     "metadata": {},
     "output_type": "execute_result"
    }
   ],
   "source": [
    "asmuo = {\n",
    "    \"vardas\": \"Kestutis\",\n",
    "    \"pavarde\": \"Linksmavicius\",\n",
    "    \"amzius\": 40,\n",
    "    \"busena\": \"gyvas\"\n",
    "}\n",
    "asmens_serija = pd.Series(asmuo)\n",
    "asmens_serija"
   ]
  },
  {
   "cell_type": "code",
   "execution_count": 16,
   "metadata": {},
   "outputs": [
    {
     "data": {
      "text/plain": [
       "Vilnius     400\n",
       "Kaunas      200\n",
       "Klaipėda    200\n",
       "Palanga     200\n",
       "Kretinga    100\n",
       "dtype: int64"
      ]
     },
     "execution_count": 16,
     "metadata": {},
     "output_type": "execute_result"
    }
   ],
   "source": [
    "miestai_vasara = pd.Series([400, 200, 200, 200, 100], [\"Vilnius\", \"Kaunas\", \"Klaipėda\", \"Palanga\", \"Kretinga\"])\n",
    "miestai_vasara"
   ]
  },
  {
   "cell_type": "code",
   "execution_count": 17,
   "metadata": {},
   "outputs": [
    {
     "data": {
      "text/plain": [
       "Vilnius      500\n",
       "Kaunas       300\n",
       "Klaipėda     150\n",
       "Panevėžys    100\n",
       "Šiauliai      75\n",
       "dtype: int64"
      ]
     },
     "execution_count": 17,
     "metadata": {},
     "output_type": "execute_result"
    }
   ],
   "source": [
    "miestai_ziema = pd.Series([500, 300, 150, 100, 75], [\"Vilnius\", \"Kaunas\", \"Klaipėda\", \"Panevėžys\", \"Šiauliai\"])\n",
    "miestai_ziema"
   ]
  },
  {
   "cell_type": "code",
   "execution_count": 18,
   "metadata": {},
   "outputs": [
    {
     "data": {
      "text/plain": [
       "Kaunas       500.0\n",
       "Klaipėda     350.0\n",
       "Kretinga       NaN\n",
       "Palanga        NaN\n",
       "Panevėžys      NaN\n",
       "Vilnius      900.0\n",
       "Šiauliai       NaN\n",
       "dtype: float64"
      ]
     },
     "execution_count": 18,
     "metadata": {},
     "output_type": "execute_result"
    }
   ],
   "source": [
    "miestai_ziema + miestai_vasara"
   ]
  },
  {
   "attachments": {},
   "cell_type": "markdown",
   "metadata": {},
   "source": [
    "# DataFrame"
   ]
  },
  {
   "cell_type": "code",
   "execution_count": 19,
   "metadata": {},
   "outputs": [
    {
     "data": {
      "text/html": [
       "<div>\n",
       "<style scoped>\n",
       "    .dataframe tbody tr th:only-of-type {\n",
       "        vertical-align: middle;\n",
       "    }\n",
       "\n",
       "    .dataframe tbody tr th {\n",
       "        vertical-align: top;\n",
       "    }\n",
       "\n",
       "    .dataframe thead th {\n",
       "        text-align: right;\n",
       "    }\n",
       "</style>\n",
       "<table border=\"1\" class=\"dataframe\">\n",
       "  <thead>\n",
       "    <tr style=\"text-align: right;\">\n",
       "      <th></th>\n",
       "      <th>U</th>\n",
       "      <th>V</th>\n",
       "      <th>W</th>\n",
       "      <th>X</th>\n",
       "      <th>Y</th>\n",
       "      <th>Z</th>\n",
       "    </tr>\n",
       "  </thead>\n",
       "  <tbody>\n",
       "    <tr>\n",
       "      <th>a</th>\n",
       "      <td>0.417988</td>\n",
       "      <td>0.467908</td>\n",
       "      <td>0.909793</td>\n",
       "      <td>0.436081</td>\n",
       "      <td>0.668175</td>\n",
       "      <td>0.989773</td>\n",
       "    </tr>\n",
       "    <tr>\n",
       "      <th>b</th>\n",
       "      <td>0.240542</td>\n",
       "      <td>0.387468</td>\n",
       "      <td>0.416620</td>\n",
       "      <td>0.368322</td>\n",
       "      <td>0.794567</td>\n",
       "      <td>0.554103</td>\n",
       "    </tr>\n",
       "    <tr>\n",
       "      <th>c</th>\n",
       "      <td>0.641592</td>\n",
       "      <td>0.703683</td>\n",
       "      <td>0.008907</td>\n",
       "      <td>0.770536</td>\n",
       "      <td>0.476338</td>\n",
       "      <td>0.093672</td>\n",
       "    </tr>\n",
       "    <tr>\n",
       "      <th>d</th>\n",
       "      <td>0.751510</td>\n",
       "      <td>0.523194</td>\n",
       "      <td>0.580417</td>\n",
       "      <td>0.236383</td>\n",
       "      <td>0.675515</td>\n",
       "      <td>0.225794</td>\n",
       "    </tr>\n",
       "    <tr>\n",
       "      <th>e</th>\n",
       "      <td>0.354387</td>\n",
       "      <td>0.619223</td>\n",
       "      <td>0.001456</td>\n",
       "      <td>0.405091</td>\n",
       "      <td>0.854802</td>\n",
       "      <td>0.001708</td>\n",
       "    </tr>\n",
       "  </tbody>\n",
       "</table>\n",
       "</div>"
      ],
      "text/plain": [
       "          U         V         W         X         Y         Z\n",
       "a  0.417988  0.467908  0.909793  0.436081  0.668175  0.989773\n",
       "b  0.240542  0.387468  0.416620  0.368322  0.794567  0.554103\n",
       "c  0.641592  0.703683  0.008907  0.770536  0.476338  0.093672\n",
       "d  0.751510  0.523194  0.580417  0.236383  0.675515  0.225794\n",
       "e  0.354387  0.619223  0.001456  0.405091  0.854802  0.001708"
      ]
     },
     "execution_count": 19,
     "metadata": {},
     "output_type": "execute_result"
    }
   ],
   "source": [
    "betkas = pd.DataFrame(\n",
    "    np.random.rand(5, 6),\n",
    "    [\"a\", \"b\", \"c\", \"d\", \"e\"],\n",
    "    [\"U\", \"V\", \"W\", \"X\", \"Y\", \"Z\"],\n",
    ")\n",
    "betkas"
   ]
  },
  {
   "cell_type": "code",
   "execution_count": 20,
   "metadata": {},
   "outputs": [
    {
     "data": {
      "text/plain": [
       "a    0.417988\n",
       "b    0.240542\n",
       "c    0.641592\n",
       "d    0.751510\n",
       "e    0.354387\n",
       "Name: U, dtype: float64"
      ]
     },
     "execution_count": 20,
     "metadata": {},
     "output_type": "execute_result"
    }
   ],
   "source": [
    "betkas['U']"
   ]
  },
  {
   "cell_type": "code",
   "execution_count": 27,
   "metadata": {},
   "outputs": [
    {
     "name": "stdout",
     "output_type": "stream",
     "text": [
      "<class 'pandas.core.frame.DataFrame'>\n",
      "<class 'pandas.core.series.Series'>\n"
     ]
    }
   ],
   "source": [
    "print(type(betkas))\n",
    "print(type(betkas['U']))"
   ]
  },
  {
   "cell_type": "code",
   "execution_count": 28,
   "metadata": {},
   "outputs": [],
   "source": [
    "betkas['T-naujas'] = np.random.rand(5)"
   ]
  },
  {
   "cell_type": "code",
   "execution_count": 37,
   "metadata": {},
   "outputs": [
    {
     "data": {
      "text/html": [
       "<div>\n",
       "<style scoped>\n",
       "    .dataframe tbody tr th:only-of-type {\n",
       "        vertical-align: middle;\n",
       "    }\n",
       "\n",
       "    .dataframe tbody tr th {\n",
       "        vertical-align: top;\n",
       "    }\n",
       "\n",
       "    .dataframe thead th {\n",
       "        text-align: right;\n",
       "    }\n",
       "</style>\n",
       "<table border=\"1\" class=\"dataframe\">\n",
       "  <thead>\n",
       "    <tr style=\"text-align: right;\">\n",
       "      <th></th>\n",
       "      <th>U</th>\n",
       "      <th>V</th>\n",
       "      <th>W</th>\n",
       "      <th>X</th>\n",
       "      <th>Y</th>\n",
       "      <th>Z</th>\n",
       "    </tr>\n",
       "  </thead>\n",
       "  <tbody>\n",
       "    <tr>\n",
       "      <th>a</th>\n",
       "      <td>0.417988</td>\n",
       "      <td>0.467908</td>\n",
       "      <td>0.909793</td>\n",
       "      <td>0.436081</td>\n",
       "      <td>0.668175</td>\n",
       "      <td>0.989773</td>\n",
       "    </tr>\n",
       "    <tr>\n",
       "      <th>b</th>\n",
       "      <td>0.240542</td>\n",
       "      <td>0.387468</td>\n",
       "      <td>0.416620</td>\n",
       "      <td>0.368322</td>\n",
       "      <td>0.794567</td>\n",
       "      <td>0.554103</td>\n",
       "    </tr>\n",
       "    <tr>\n",
       "      <th>c</th>\n",
       "      <td>0.641592</td>\n",
       "      <td>0.703683</td>\n",
       "      <td>0.008907</td>\n",
       "      <td>0.770536</td>\n",
       "      <td>0.476338</td>\n",
       "      <td>0.093672</td>\n",
       "    </tr>\n",
       "    <tr>\n",
       "      <th>d</th>\n",
       "      <td>0.751510</td>\n",
       "      <td>0.523194</td>\n",
       "      <td>0.580417</td>\n",
       "      <td>0.236383</td>\n",
       "      <td>0.675515</td>\n",
       "      <td>0.225794</td>\n",
       "    </tr>\n",
       "    <tr>\n",
       "      <th>e</th>\n",
       "      <td>0.354387</td>\n",
       "      <td>0.619223</td>\n",
       "      <td>0.001456</td>\n",
       "      <td>0.405091</td>\n",
       "      <td>0.854802</td>\n",
       "      <td>0.001708</td>\n",
       "    </tr>\n",
       "  </tbody>\n",
       "</table>\n",
       "</div>"
      ],
      "text/plain": [
       "          U         V         W         X         Y         Z\n",
       "a  0.417988  0.467908  0.909793  0.436081  0.668175  0.989773\n",
       "b  0.240542  0.387468  0.416620  0.368322  0.794567  0.554103\n",
       "c  0.641592  0.703683  0.008907  0.770536  0.476338  0.093672\n",
       "d  0.751510  0.523194  0.580417  0.236383  0.675515  0.225794\n",
       "e  0.354387  0.619223  0.001456  0.405091  0.854802  0.001708"
      ]
     },
     "execution_count": 37,
     "metadata": {},
     "output_type": "execute_result"
    }
   ],
   "source": [
    "betkas"
   ]
  },
  {
   "cell_type": "code",
   "execution_count": 32,
   "metadata": {},
   "outputs": [
    {
     "data": {
      "text/html": [
       "<div>\n",
       "<style scoped>\n",
       "    .dataframe tbody tr th:only-of-type {\n",
       "        vertical-align: middle;\n",
       "    }\n",
       "\n",
       "    .dataframe tbody tr th {\n",
       "        vertical-align: top;\n",
       "    }\n",
       "\n",
       "    .dataframe thead th {\n",
       "        text-align: right;\n",
       "    }\n",
       "</style>\n",
       "<table border=\"1\" class=\"dataframe\">\n",
       "  <thead>\n",
       "    <tr style=\"text-align: right;\">\n",
       "      <th></th>\n",
       "      <th>U</th>\n",
       "      <th>V</th>\n",
       "      <th>W</th>\n",
       "      <th>X</th>\n",
       "      <th>Y</th>\n",
       "      <th>Z</th>\n",
       "    </tr>\n",
       "  </thead>\n",
       "  <tbody>\n",
       "    <tr>\n",
       "      <th>a</th>\n",
       "      <td>0.417988</td>\n",
       "      <td>0.467908</td>\n",
       "      <td>0.909793</td>\n",
       "      <td>0.436081</td>\n",
       "      <td>0.668175</td>\n",
       "      <td>0.989773</td>\n",
       "    </tr>\n",
       "    <tr>\n",
       "      <th>b</th>\n",
       "      <td>0.240542</td>\n",
       "      <td>0.387468</td>\n",
       "      <td>0.416620</td>\n",
       "      <td>0.368322</td>\n",
       "      <td>0.794567</td>\n",
       "      <td>0.554103</td>\n",
       "    </tr>\n",
       "    <tr>\n",
       "      <th>c</th>\n",
       "      <td>0.641592</td>\n",
       "      <td>0.703683</td>\n",
       "      <td>0.008907</td>\n",
       "      <td>0.770536</td>\n",
       "      <td>0.476338</td>\n",
       "      <td>0.093672</td>\n",
       "    </tr>\n",
       "    <tr>\n",
       "      <th>d</th>\n",
       "      <td>0.751510</td>\n",
       "      <td>0.523194</td>\n",
       "      <td>0.580417</td>\n",
       "      <td>0.236383</td>\n",
       "      <td>0.675515</td>\n",
       "      <td>0.225794</td>\n",
       "    </tr>\n",
       "    <tr>\n",
       "      <th>e</th>\n",
       "      <td>0.354387</td>\n",
       "      <td>0.619223</td>\n",
       "      <td>0.001456</td>\n",
       "      <td>0.405091</td>\n",
       "      <td>0.854802</td>\n",
       "      <td>0.001708</td>\n",
       "    </tr>\n",
       "  </tbody>\n",
       "</table>\n",
       "</div>"
      ],
      "text/plain": [
       "          U         V         W         X         Y         Z\n",
       "a  0.417988  0.467908  0.909793  0.436081  0.668175  0.989773\n",
       "b  0.240542  0.387468  0.416620  0.368322  0.794567  0.554103\n",
       "c  0.641592  0.703683  0.008907  0.770536  0.476338  0.093672\n",
       "d  0.751510  0.523194  0.580417  0.236383  0.675515  0.225794\n",
       "e  0.354387  0.619223  0.001456  0.405091  0.854802  0.001708"
      ]
     },
     "execution_count": 32,
     "metadata": {},
     "output_type": "execute_result"
    }
   ],
   "source": [
    "betkas.drop('T-naujas', axis=1, inplace=True)\n",
    "betkas"
   ]
  },
  {
   "cell_type": "code",
   "execution_count": 35,
   "metadata": {},
   "outputs": [
    {
     "data": {
      "text/plain": [
       "U    0.417988\n",
       "V    0.467908\n",
       "W    0.909793\n",
       "X    0.436081\n",
       "Y    0.668175\n",
       "Z    0.989773\n",
       "Name: a, dtype: float64"
      ]
     },
     "execution_count": 35,
     "metadata": {},
     "output_type": "execute_result"
    }
   ],
   "source": [
    "a_eilute_is_betko = betkas.loc['a']\n",
    "a_eilute_is_betko"
   ]
  },
  {
   "cell_type": "code",
   "execution_count": 36,
   "metadata": {},
   "outputs": [
    {
     "data": {
      "text/html": [
       "<div>\n",
       "<style scoped>\n",
       "    .dataframe tbody tr th:only-of-type {\n",
       "        vertical-align: middle;\n",
       "    }\n",
       "\n",
       "    .dataframe tbody tr th {\n",
       "        vertical-align: top;\n",
       "    }\n",
       "\n",
       "    .dataframe thead th {\n",
       "        text-align: right;\n",
       "    }\n",
       "</style>\n",
       "<table border=\"1\" class=\"dataframe\">\n",
       "  <thead>\n",
       "    <tr style=\"text-align: right;\">\n",
       "      <th></th>\n",
       "      <th>U</th>\n",
       "      <th>V</th>\n",
       "      <th>W</th>\n",
       "      <th>X</th>\n",
       "      <th>Y</th>\n",
       "      <th>Z</th>\n",
       "    </tr>\n",
       "  </thead>\n",
       "  <tbody>\n",
       "    <tr>\n",
       "      <th>a</th>\n",
       "      <td>0.417988</td>\n",
       "      <td>0.467908</td>\n",
       "      <td>0.909793</td>\n",
       "      <td>0.436081</td>\n",
       "      <td>0.668175</td>\n",
       "      <td>0.989773</td>\n",
       "    </tr>\n",
       "    <tr>\n",
       "      <th>b</th>\n",
       "      <td>0.240542</td>\n",
       "      <td>0.387468</td>\n",
       "      <td>0.416620</td>\n",
       "      <td>0.368322</td>\n",
       "      <td>0.794567</td>\n",
       "      <td>0.554103</td>\n",
       "    </tr>\n",
       "    <tr>\n",
       "      <th>c</th>\n",
       "      <td>0.641592</td>\n",
       "      <td>0.703683</td>\n",
       "      <td>0.008907</td>\n",
       "      <td>0.770536</td>\n",
       "      <td>0.476338</td>\n",
       "      <td>0.093672</td>\n",
       "    </tr>\n",
       "    <tr>\n",
       "      <th>d</th>\n",
       "      <td>0.751510</td>\n",
       "      <td>0.523194</td>\n",
       "      <td>0.580417</td>\n",
       "      <td>0.236383</td>\n",
       "      <td>0.675515</td>\n",
       "      <td>0.225794</td>\n",
       "    </tr>\n",
       "  </tbody>\n",
       "</table>\n",
       "</div>"
      ],
      "text/plain": [
       "          U         V         W         X         Y         Z\n",
       "a  0.417988  0.467908  0.909793  0.436081  0.668175  0.989773\n",
       "b  0.240542  0.387468  0.416620  0.368322  0.794567  0.554103\n",
       "c  0.641592  0.703683  0.008907  0.770536  0.476338  0.093672\n",
       "d  0.751510  0.523194  0.580417  0.236383  0.675515  0.225794"
      ]
     },
     "execution_count": 36,
     "metadata": {},
     "output_type": "execute_result"
    }
   ],
   "source": [
    "betkas.drop('e')"
   ]
  },
  {
   "cell_type": "code",
   "execution_count": 39,
   "metadata": {},
   "outputs": [
    {
     "data": {
      "text/plain": [
       "U    0.417988\n",
       "V    0.467908\n",
       "W    0.909793\n",
       "X    0.436081\n",
       "Y    0.668175\n",
       "Z    0.989773\n",
       "Name: a, dtype: float64"
      ]
     },
     "execution_count": 39,
     "metadata": {},
     "output_type": "execute_result"
    }
   ],
   "source": [
    "betkas.iloc[0]"
   ]
  },
  {
   "cell_type": "code",
   "execution_count": 40,
   "metadata": {},
   "outputs": [
    {
     "data": {
      "text/plain": [
       "0.9897734839674719"
      ]
     },
     "execution_count": 40,
     "metadata": {},
     "output_type": "execute_result"
    }
   ],
   "source": [
    "betkas.loc['a', 'Z']"
   ]
  },
  {
   "cell_type": "code",
   "execution_count": 41,
   "metadata": {},
   "outputs": [
    {
     "data": {
      "text/html": [
       "<div>\n",
       "<style scoped>\n",
       "    .dataframe tbody tr th:only-of-type {\n",
       "        vertical-align: middle;\n",
       "    }\n",
       "\n",
       "    .dataframe tbody tr th {\n",
       "        vertical-align: top;\n",
       "    }\n",
       "\n",
       "    .dataframe thead th {\n",
       "        text-align: right;\n",
       "    }\n",
       "</style>\n",
       "<table border=\"1\" class=\"dataframe\">\n",
       "  <thead>\n",
       "    <tr style=\"text-align: right;\">\n",
       "      <th></th>\n",
       "      <th>U</th>\n",
       "      <th>X</th>\n",
       "      <th>Z</th>\n",
       "    </tr>\n",
       "  </thead>\n",
       "  <tbody>\n",
       "    <tr>\n",
       "      <th>a</th>\n",
       "      <td>0.417988</td>\n",
       "      <td>0.436081</td>\n",
       "      <td>0.989773</td>\n",
       "    </tr>\n",
       "    <tr>\n",
       "      <th>c</th>\n",
       "      <td>0.641592</td>\n",
       "      <td>0.770536</td>\n",
       "      <td>0.093672</td>\n",
       "    </tr>\n",
       "  </tbody>\n",
       "</table>\n",
       "</div>"
      ],
      "text/plain": [
       "          U         X         Z\n",
       "a  0.417988  0.436081  0.989773\n",
       "c  0.641592  0.770536  0.093672"
      ]
     },
     "execution_count": 41,
     "metadata": {},
     "output_type": "execute_result"
    }
   ],
   "source": [
    "betkas.loc[['a', 'c'], ['U', 'X', 'Z']]"
   ]
  },
  {
   "cell_type": "code",
   "execution_count": 53,
   "metadata": {},
   "outputs": [
    {
     "data": {
      "text/html": [
       "<div>\n",
       "<style scoped>\n",
       "    .dataframe tbody tr th:only-of-type {\n",
       "        vertical-align: middle;\n",
       "    }\n",
       "\n",
       "    .dataframe tbody tr th {\n",
       "        vertical-align: top;\n",
       "    }\n",
       "\n",
       "    .dataframe thead th {\n",
       "        text-align: right;\n",
       "    }\n",
       "</style>\n",
       "<table border=\"1\" class=\"dataframe\">\n",
       "  <thead>\n",
       "    <tr style=\"text-align: right;\">\n",
       "      <th></th>\n",
       "      <th>U</th>\n",
       "      <th>V</th>\n",
       "      <th>W</th>\n",
       "    </tr>\n",
       "  </thead>\n",
       "  <tbody>\n",
       "    <tr>\n",
       "      <th>b</th>\n",
       "      <td>0.240542</td>\n",
       "      <td>0.387468</td>\n",
       "      <td>0.416620</td>\n",
       "    </tr>\n",
       "    <tr>\n",
       "      <th>c</th>\n",
       "      <td>0.641592</td>\n",
       "      <td>0.703683</td>\n",
       "      <td>0.008907</td>\n",
       "    </tr>\n",
       "    <tr>\n",
       "      <th>d</th>\n",
       "      <td>0.751510</td>\n",
       "      <td>0.523194</td>\n",
       "      <td>0.580417</td>\n",
       "    </tr>\n",
       "  </tbody>\n",
       "</table>\n",
       "</div>"
      ],
      "text/plain": [
       "          U         V         W\n",
       "b  0.240542  0.387468  0.416620\n",
       "c  0.641592  0.703683  0.008907\n",
       "d  0.751510  0.523194  0.580417"
      ]
     },
     "execution_count": 53,
     "metadata": {},
     "output_type": "execute_result"
    }
   ],
   "source": [
    "betkas.iloc[[x for x in range(1, 4)], [y for y in range(0, 3)]]"
   ]
  },
  {
   "cell_type": "code",
   "execution_count": 54,
   "metadata": {},
   "outputs": [
    {
     "data": {
      "text/html": [
       "<div>\n",
       "<style scoped>\n",
       "    .dataframe tbody tr th:only-of-type {\n",
       "        vertical-align: middle;\n",
       "    }\n",
       "\n",
       "    .dataframe tbody tr th {\n",
       "        vertical-align: top;\n",
       "    }\n",
       "\n",
       "    .dataframe thead th {\n",
       "        text-align: right;\n",
       "    }\n",
       "</style>\n",
       "<table border=\"1\" class=\"dataframe\">\n",
       "  <thead>\n",
       "    <tr style=\"text-align: right;\">\n",
       "      <th></th>\n",
       "      <th>U</th>\n",
       "      <th>V</th>\n",
       "      <th>W</th>\n",
       "      <th>X</th>\n",
       "      <th>Y</th>\n",
       "      <th>Z</th>\n",
       "    </tr>\n",
       "  </thead>\n",
       "  <tbody>\n",
       "    <tr>\n",
       "      <th>a</th>\n",
       "      <td>NaN</td>\n",
       "      <td>NaN</td>\n",
       "      <td>0.909793</td>\n",
       "      <td>NaN</td>\n",
       "      <td>0.668175</td>\n",
       "      <td>0.989773</td>\n",
       "    </tr>\n",
       "    <tr>\n",
       "      <th>b</th>\n",
       "      <td>NaN</td>\n",
       "      <td>NaN</td>\n",
       "      <td>NaN</td>\n",
       "      <td>NaN</td>\n",
       "      <td>0.794567</td>\n",
       "      <td>0.554103</td>\n",
       "    </tr>\n",
       "    <tr>\n",
       "      <th>c</th>\n",
       "      <td>0.641592</td>\n",
       "      <td>0.703683</td>\n",
       "      <td>NaN</td>\n",
       "      <td>0.770536</td>\n",
       "      <td>NaN</td>\n",
       "      <td>NaN</td>\n",
       "    </tr>\n",
       "    <tr>\n",
       "      <th>d</th>\n",
       "      <td>0.751510</td>\n",
       "      <td>0.523194</td>\n",
       "      <td>0.580417</td>\n",
       "      <td>NaN</td>\n",
       "      <td>0.675515</td>\n",
       "      <td>NaN</td>\n",
       "    </tr>\n",
       "    <tr>\n",
       "      <th>e</th>\n",
       "      <td>NaN</td>\n",
       "      <td>0.619223</td>\n",
       "      <td>NaN</td>\n",
       "      <td>NaN</td>\n",
       "      <td>0.854802</td>\n",
       "      <td>NaN</td>\n",
       "    </tr>\n",
       "  </tbody>\n",
       "</table>\n",
       "</div>"
      ],
      "text/plain": [
       "          U         V         W         X         Y         Z\n",
       "a       NaN       NaN  0.909793       NaN  0.668175  0.989773\n",
       "b       NaN       NaN       NaN       NaN  0.794567  0.554103\n",
       "c  0.641592  0.703683       NaN  0.770536       NaN       NaN\n",
       "d  0.751510  0.523194  0.580417       NaN  0.675515       NaN\n",
       "e       NaN  0.619223       NaN       NaN  0.854802       NaN"
      ]
     },
     "execution_count": 54,
     "metadata": {},
     "output_type": "execute_result"
    }
   ],
   "source": [
    "betkas[betkas > 0.5]"
   ]
  },
  {
   "cell_type": "code",
   "execution_count": 55,
   "metadata": {},
   "outputs": [
    {
     "data": {
      "text/html": [
       "<div>\n",
       "<style scoped>\n",
       "    .dataframe tbody tr th:only-of-type {\n",
       "        vertical-align: middle;\n",
       "    }\n",
       "\n",
       "    .dataframe tbody tr th {\n",
       "        vertical-align: top;\n",
       "    }\n",
       "\n",
       "    .dataframe thead th {\n",
       "        text-align: right;\n",
       "    }\n",
       "</style>\n",
       "<table border=\"1\" class=\"dataframe\">\n",
       "  <thead>\n",
       "    <tr style=\"text-align: right;\">\n",
       "      <th></th>\n",
       "      <th>U</th>\n",
       "      <th>V</th>\n",
       "      <th>W</th>\n",
       "      <th>X</th>\n",
       "      <th>Y</th>\n",
       "      <th>Z</th>\n",
       "    </tr>\n",
       "  </thead>\n",
       "  <tbody>\n",
       "    <tr>\n",
       "      <th>a</th>\n",
       "      <td>0.417988</td>\n",
       "      <td>0.467908</td>\n",
       "      <td>0.909793</td>\n",
       "      <td>0.436081</td>\n",
       "      <td>0.668175</td>\n",
       "      <td>0.989773</td>\n",
       "    </tr>\n",
       "    <tr>\n",
       "      <th>d</th>\n",
       "      <td>0.751510</td>\n",
       "      <td>0.523194</td>\n",
       "      <td>0.580417</td>\n",
       "      <td>0.236383</td>\n",
       "      <td>0.675515</td>\n",
       "      <td>0.225794</td>\n",
       "    </tr>\n",
       "  </tbody>\n",
       "</table>\n",
       "</div>"
      ],
      "text/plain": [
       "          U         V         W         X         Y         Z\n",
       "a  0.417988  0.467908  0.909793  0.436081  0.668175  0.989773\n",
       "d  0.751510  0.523194  0.580417  0.236383  0.675515  0.225794"
      ]
     },
     "execution_count": 55,
     "metadata": {},
     "output_type": "execute_result"
    }
   ],
   "source": [
    "betkas[betkas['W'] > 0.5]"
   ]
  },
  {
   "cell_type": "code",
   "execution_count": 56,
   "metadata": {},
   "outputs": [
    {
     "data": {
      "text/html": [
       "<div>\n",
       "<style scoped>\n",
       "    .dataframe tbody tr th:only-of-type {\n",
       "        vertical-align: middle;\n",
       "    }\n",
       "\n",
       "    .dataframe tbody tr th {\n",
       "        vertical-align: top;\n",
       "    }\n",
       "\n",
       "    .dataframe thead th {\n",
       "        text-align: right;\n",
       "    }\n",
       "</style>\n",
       "<table border=\"1\" class=\"dataframe\">\n",
       "  <thead>\n",
       "    <tr style=\"text-align: right;\">\n",
       "      <th></th>\n",
       "      <th>U</th>\n",
       "      <th>W</th>\n",
       "      <th>Z</th>\n",
       "    </tr>\n",
       "  </thead>\n",
       "  <tbody>\n",
       "    <tr>\n",
       "      <th>a</th>\n",
       "      <td>0.417988</td>\n",
       "      <td>0.909793</td>\n",
       "      <td>0.989773</td>\n",
       "    </tr>\n",
       "    <tr>\n",
       "      <th>d</th>\n",
       "      <td>0.751510</td>\n",
       "      <td>0.580417</td>\n",
       "      <td>0.225794</td>\n",
       "    </tr>\n",
       "  </tbody>\n",
       "</table>\n",
       "</div>"
      ],
      "text/plain": [
       "          U         W         Z\n",
       "a  0.417988  0.909793  0.989773\n",
       "d  0.751510  0.580417  0.225794"
      ]
     },
     "execution_count": 56,
     "metadata": {},
     "output_type": "execute_result"
    }
   ],
   "source": [
    "betkas[betkas['W'] > 0.5][['U', 'W', 'Z']]"
   ]
  },
  {
   "cell_type": "code",
   "execution_count": 59,
   "metadata": {},
   "outputs": [
    {
     "data": {
      "text/html": [
       "<div>\n",
       "<style scoped>\n",
       "    .dataframe tbody tr th:only-of-type {\n",
       "        vertical-align: middle;\n",
       "    }\n",
       "\n",
       "    .dataframe tbody tr th {\n",
       "        vertical-align: top;\n",
       "    }\n",
       "\n",
       "    .dataframe thead th {\n",
       "        text-align: right;\n",
       "    }\n",
       "</style>\n",
       "<table border=\"1\" class=\"dataframe\">\n",
       "  <thead>\n",
       "    <tr style=\"text-align: right;\">\n",
       "      <th></th>\n",
       "      <th>U</th>\n",
       "      <th>V</th>\n",
       "      <th>W</th>\n",
       "      <th>X</th>\n",
       "      <th>Y</th>\n",
       "      <th>Z</th>\n",
       "    </tr>\n",
       "  </thead>\n",
       "  <tbody>\n",
       "    <tr>\n",
       "      <th>d</th>\n",
       "      <td>0.75151</td>\n",
       "      <td>0.523194</td>\n",
       "      <td>0.580417</td>\n",
       "      <td>0.236383</td>\n",
       "      <td>0.675515</td>\n",
       "      <td>0.225794</td>\n",
       "    </tr>\n",
       "  </tbody>\n",
       "</table>\n",
       "</div>"
      ],
      "text/plain": [
       "         U         V         W         X         Y         Z\n",
       "d  0.75151  0.523194  0.580417  0.236383  0.675515  0.225794"
      ]
     },
     "execution_count": 59,
     "metadata": {},
     "output_type": "execute_result"
    }
   ],
   "source": [
    "betkas[(betkas['W'] > 0.5) & (betkas['Z'] < 0.5)]"
   ]
  },
  {
   "cell_type": "code",
   "execution_count": 60,
   "metadata": {},
   "outputs": [
    {
     "data": {
      "text/html": [
       "<div>\n",
       "<style scoped>\n",
       "    .dataframe tbody tr th:only-of-type {\n",
       "        vertical-align: middle;\n",
       "    }\n",
       "\n",
       "    .dataframe tbody tr th {\n",
       "        vertical-align: top;\n",
       "    }\n",
       "\n",
       "    .dataframe thead th {\n",
       "        text-align: right;\n",
       "    }\n",
       "</style>\n",
       "<table border=\"1\" class=\"dataframe\">\n",
       "  <thead>\n",
       "    <tr style=\"text-align: right;\">\n",
       "      <th></th>\n",
       "      <th>W</th>\n",
       "      <th>Z</th>\n",
       "    </tr>\n",
       "  </thead>\n",
       "  <tbody>\n",
       "    <tr>\n",
       "      <th>d</th>\n",
       "      <td>0.580417</td>\n",
       "      <td>0.225794</td>\n",
       "    </tr>\n",
       "  </tbody>\n",
       "</table>\n",
       "</div>"
      ],
      "text/plain": [
       "          W         Z\n",
       "d  0.580417  0.225794"
      ]
     },
     "execution_count": 60,
     "metadata": {},
     "output_type": "execute_result"
    }
   ],
   "source": [
    "betkas[(betkas['W'] > 0.5) & (betkas['Z'] < 0.5)][['W', 'Z']]"
   ]
  },
  {
   "attachments": {},
   "cell_type": "markdown",
   "metadata": {},
   "source": [
    "# indeksai"
   ]
  },
  {
   "cell_type": "code",
   "execution_count": 63,
   "metadata": {},
   "outputs": [
    {
     "data": {
      "text/html": [
       "<div>\n",
       "<style scoped>\n",
       "    .dataframe tbody tr th:only-of-type {\n",
       "        vertical-align: middle;\n",
       "    }\n",
       "\n",
       "    .dataframe tbody tr th {\n",
       "        vertical-align: top;\n",
       "    }\n",
       "\n",
       "    .dataframe thead th {\n",
       "        text-align: right;\n",
       "    }\n",
       "</style>\n",
       "<table border=\"1\" class=\"dataframe\">\n",
       "  <thead>\n",
       "    <tr style=\"text-align: right;\">\n",
       "      <th></th>\n",
       "      <th>index</th>\n",
       "      <th>U</th>\n",
       "      <th>V</th>\n",
       "      <th>W</th>\n",
       "      <th>X</th>\n",
       "      <th>Y</th>\n",
       "      <th>Z</th>\n",
       "    </tr>\n",
       "  </thead>\n",
       "  <tbody>\n",
       "    <tr>\n",
       "      <th>0</th>\n",
       "      <td>a</td>\n",
       "      <td>0.417988</td>\n",
       "      <td>0.467908</td>\n",
       "      <td>0.909793</td>\n",
       "      <td>0.436081</td>\n",
       "      <td>0.668175</td>\n",
       "      <td>0.989773</td>\n",
       "    </tr>\n",
       "    <tr>\n",
       "      <th>1</th>\n",
       "      <td>b</td>\n",
       "      <td>0.240542</td>\n",
       "      <td>0.387468</td>\n",
       "      <td>0.416620</td>\n",
       "      <td>0.368322</td>\n",
       "      <td>0.794567</td>\n",
       "      <td>0.554103</td>\n",
       "    </tr>\n",
       "    <tr>\n",
       "      <th>2</th>\n",
       "      <td>c</td>\n",
       "      <td>0.641592</td>\n",
       "      <td>0.703683</td>\n",
       "      <td>0.008907</td>\n",
       "      <td>0.770536</td>\n",
       "      <td>0.476338</td>\n",
       "      <td>0.093672</td>\n",
       "    </tr>\n",
       "    <tr>\n",
       "      <th>3</th>\n",
       "      <td>d</td>\n",
       "      <td>0.751510</td>\n",
       "      <td>0.523194</td>\n",
       "      <td>0.580417</td>\n",
       "      <td>0.236383</td>\n",
       "      <td>0.675515</td>\n",
       "      <td>0.225794</td>\n",
       "    </tr>\n",
       "    <tr>\n",
       "      <th>4</th>\n",
       "      <td>e</td>\n",
       "      <td>0.354387</td>\n",
       "      <td>0.619223</td>\n",
       "      <td>0.001456</td>\n",
       "      <td>0.405091</td>\n",
       "      <td>0.854802</td>\n",
       "      <td>0.001708</td>\n",
       "    </tr>\n",
       "  </tbody>\n",
       "</table>\n",
       "</div>"
      ],
      "text/plain": [
       "  index         U         V         W         X         Y         Z\n",
       "0     a  0.417988  0.467908  0.909793  0.436081  0.668175  0.989773\n",
       "1     b  0.240542  0.387468  0.416620  0.368322  0.794567  0.554103\n",
       "2     c  0.641592  0.703683  0.008907  0.770536  0.476338  0.093672\n",
       "3     d  0.751510  0.523194  0.580417  0.236383  0.675515  0.225794\n",
       "4     e  0.354387  0.619223  0.001456  0.405091  0.854802  0.001708"
      ]
     },
     "execution_count": 63,
     "metadata": {},
     "output_type": "execute_result"
    }
   ],
   "source": [
    "betkas.reset_index()"
   ]
  },
  {
   "cell_type": "code",
   "execution_count": 69,
   "metadata": {},
   "outputs": [
    {
     "data": {
      "text/html": [
       "<div>\n",
       "<style scoped>\n",
       "    .dataframe tbody tr th:only-of-type {\n",
       "        vertical-align: middle;\n",
       "    }\n",
       "\n",
       "    .dataframe tbody tr th {\n",
       "        vertical-align: top;\n",
       "    }\n",
       "\n",
       "    .dataframe thead th {\n",
       "        text-align: right;\n",
       "    }\n",
       "</style>\n",
       "<table border=\"1\" class=\"dataframe\">\n",
       "  <thead>\n",
       "    <tr style=\"text-align: right;\">\n",
       "      <th></th>\n",
       "      <th>U</th>\n",
       "      <th>V</th>\n",
       "      <th>W</th>\n",
       "      <th>X</th>\n",
       "      <th>Y</th>\n",
       "      <th>Z</th>\n",
       "      <th>Miestas</th>\n",
       "    </tr>\n",
       "  </thead>\n",
       "  <tbody>\n",
       "    <tr>\n",
       "      <th>a</th>\n",
       "      <td>0.417988</td>\n",
       "      <td>0.467908</td>\n",
       "      <td>0.909793</td>\n",
       "      <td>0.436081</td>\n",
       "      <td>0.668175</td>\n",
       "      <td>0.989773</td>\n",
       "      <td>Vilnius</td>\n",
       "    </tr>\n",
       "    <tr>\n",
       "      <th>b</th>\n",
       "      <td>0.240542</td>\n",
       "      <td>0.387468</td>\n",
       "      <td>0.416620</td>\n",
       "      <td>0.368322</td>\n",
       "      <td>0.794567</td>\n",
       "      <td>0.554103</td>\n",
       "      <td>Kaunas</td>\n",
       "    </tr>\n",
       "    <tr>\n",
       "      <th>c</th>\n",
       "      <td>0.641592</td>\n",
       "      <td>0.703683</td>\n",
       "      <td>0.008907</td>\n",
       "      <td>0.770536</td>\n",
       "      <td>0.476338</td>\n",
       "      <td>0.093672</td>\n",
       "      <td>Klaipėda</td>\n",
       "    </tr>\n",
       "    <tr>\n",
       "      <th>d</th>\n",
       "      <td>0.751510</td>\n",
       "      <td>0.523194</td>\n",
       "      <td>0.580417</td>\n",
       "      <td>0.236383</td>\n",
       "      <td>0.675515</td>\n",
       "      <td>0.225794</td>\n",
       "      <td>Palanga</td>\n",
       "    </tr>\n",
       "    <tr>\n",
       "      <th>e</th>\n",
       "      <td>0.354387</td>\n",
       "      <td>0.619223</td>\n",
       "      <td>0.001456</td>\n",
       "      <td>0.405091</td>\n",
       "      <td>0.854802</td>\n",
       "      <td>0.001708</td>\n",
       "      <td>Kretinga</td>\n",
       "    </tr>\n",
       "  </tbody>\n",
       "</table>\n",
       "</div>"
      ],
      "text/plain": [
       "          U         V         W         X         Y         Z   Miestas\n",
       "a  0.417988  0.467908  0.909793  0.436081  0.668175  0.989773   Vilnius\n",
       "b  0.240542  0.387468  0.416620  0.368322  0.794567  0.554103    Kaunas\n",
       "c  0.641592  0.703683  0.008907  0.770536  0.476338  0.093672  Klaipėda\n",
       "d  0.751510  0.523194  0.580417  0.236383  0.675515  0.225794   Palanga\n",
       "e  0.354387  0.619223  0.001456  0.405091  0.854802  0.001708  Kretinga"
      ]
     },
     "execution_count": 69,
     "metadata": {},
     "output_type": "execute_result"
    }
   ],
   "source": [
    "naujas_indeksas = \"Vilnius Kaunas Klaipėda Palanga Kretinga\".split()\n",
    "betkas['Miestas'] = naujas_indeksas\n",
    "betkas"
   ]
  },
  {
   "cell_type": "code",
   "execution_count": 71,
   "metadata": {},
   "outputs": [],
   "source": [
    "miestu_betkas = betkas.set_index('Miestas')"
   ]
  },
  {
   "cell_type": "code",
   "execution_count": 72,
   "metadata": {},
   "outputs": [],
   "source": [
    "betkas.drop('Miestas', axis=1, inplace=True)"
   ]
  },
  {
   "cell_type": "code",
   "execution_count": 73,
   "metadata": {},
   "outputs": [
    {
     "data": {
      "text/html": [
       "<div>\n",
       "<style scoped>\n",
       "    .dataframe tbody tr th:only-of-type {\n",
       "        vertical-align: middle;\n",
       "    }\n",
       "\n",
       "    .dataframe tbody tr th {\n",
       "        vertical-align: top;\n",
       "    }\n",
       "\n",
       "    .dataframe thead th {\n",
       "        text-align: right;\n",
       "    }\n",
       "</style>\n",
       "<table border=\"1\" class=\"dataframe\">\n",
       "  <thead>\n",
       "    <tr style=\"text-align: right;\">\n",
       "      <th></th>\n",
       "      <th>U</th>\n",
       "      <th>V</th>\n",
       "      <th>W</th>\n",
       "      <th>X</th>\n",
       "      <th>Y</th>\n",
       "      <th>Z</th>\n",
       "    </tr>\n",
       "  </thead>\n",
       "  <tbody>\n",
       "    <tr>\n",
       "      <th>a</th>\n",
       "      <td>0.417988</td>\n",
       "      <td>0.467908</td>\n",
       "      <td>0.909793</td>\n",
       "      <td>0.436081</td>\n",
       "      <td>0.668175</td>\n",
       "      <td>0.989773</td>\n",
       "    </tr>\n",
       "    <tr>\n",
       "      <th>b</th>\n",
       "      <td>0.240542</td>\n",
       "      <td>0.387468</td>\n",
       "      <td>0.416620</td>\n",
       "      <td>0.368322</td>\n",
       "      <td>0.794567</td>\n",
       "      <td>0.554103</td>\n",
       "    </tr>\n",
       "    <tr>\n",
       "      <th>c</th>\n",
       "      <td>0.641592</td>\n",
       "      <td>0.703683</td>\n",
       "      <td>0.008907</td>\n",
       "      <td>0.770536</td>\n",
       "      <td>0.476338</td>\n",
       "      <td>0.093672</td>\n",
       "    </tr>\n",
       "    <tr>\n",
       "      <th>d</th>\n",
       "      <td>0.751510</td>\n",
       "      <td>0.523194</td>\n",
       "      <td>0.580417</td>\n",
       "      <td>0.236383</td>\n",
       "      <td>0.675515</td>\n",
       "      <td>0.225794</td>\n",
       "    </tr>\n",
       "    <tr>\n",
       "      <th>e</th>\n",
       "      <td>0.354387</td>\n",
       "      <td>0.619223</td>\n",
       "      <td>0.001456</td>\n",
       "      <td>0.405091</td>\n",
       "      <td>0.854802</td>\n",
       "      <td>0.001708</td>\n",
       "    </tr>\n",
       "  </tbody>\n",
       "</table>\n",
       "</div>"
      ],
      "text/plain": [
       "          U         V         W         X         Y         Z\n",
       "a  0.417988  0.467908  0.909793  0.436081  0.668175  0.989773\n",
       "b  0.240542  0.387468  0.416620  0.368322  0.794567  0.554103\n",
       "c  0.641592  0.703683  0.008907  0.770536  0.476338  0.093672\n",
       "d  0.751510  0.523194  0.580417  0.236383  0.675515  0.225794\n",
       "e  0.354387  0.619223  0.001456  0.405091  0.854802  0.001708"
      ]
     },
     "execution_count": 73,
     "metadata": {},
     "output_type": "execute_result"
    }
   ],
   "source": [
    "betkas"
   ]
  },
  {
   "cell_type": "code",
   "execution_count": 74,
   "metadata": {},
   "outputs": [
    {
     "data": {
      "text/html": [
       "<div>\n",
       "<style scoped>\n",
       "    .dataframe tbody tr th:only-of-type {\n",
       "        vertical-align: middle;\n",
       "    }\n",
       "\n",
       "    .dataframe tbody tr th {\n",
       "        vertical-align: top;\n",
       "    }\n",
       "\n",
       "    .dataframe thead th {\n",
       "        text-align: right;\n",
       "    }\n",
       "</style>\n",
       "<table border=\"1\" class=\"dataframe\">\n",
       "  <thead>\n",
       "    <tr style=\"text-align: right;\">\n",
       "      <th></th>\n",
       "      <th>U</th>\n",
       "      <th>V</th>\n",
       "      <th>W</th>\n",
       "      <th>X</th>\n",
       "      <th>Y</th>\n",
       "      <th>Z</th>\n",
       "    </tr>\n",
       "    <tr>\n",
       "      <th>Miestas</th>\n",
       "      <th></th>\n",
       "      <th></th>\n",
       "      <th></th>\n",
       "      <th></th>\n",
       "      <th></th>\n",
       "      <th></th>\n",
       "    </tr>\n",
       "  </thead>\n",
       "  <tbody>\n",
       "    <tr>\n",
       "      <th>Vilnius</th>\n",
       "      <td>0.417988</td>\n",
       "      <td>0.467908</td>\n",
       "      <td>0.909793</td>\n",
       "      <td>0.436081</td>\n",
       "      <td>0.668175</td>\n",
       "      <td>0.989773</td>\n",
       "    </tr>\n",
       "    <tr>\n",
       "      <th>Kaunas</th>\n",
       "      <td>0.240542</td>\n",
       "      <td>0.387468</td>\n",
       "      <td>0.416620</td>\n",
       "      <td>0.368322</td>\n",
       "      <td>0.794567</td>\n",
       "      <td>0.554103</td>\n",
       "    </tr>\n",
       "    <tr>\n",
       "      <th>Klaipėda</th>\n",
       "      <td>0.641592</td>\n",
       "      <td>0.703683</td>\n",
       "      <td>0.008907</td>\n",
       "      <td>0.770536</td>\n",
       "      <td>0.476338</td>\n",
       "      <td>0.093672</td>\n",
       "    </tr>\n",
       "    <tr>\n",
       "      <th>Palanga</th>\n",
       "      <td>0.751510</td>\n",
       "      <td>0.523194</td>\n",
       "      <td>0.580417</td>\n",
       "      <td>0.236383</td>\n",
       "      <td>0.675515</td>\n",
       "      <td>0.225794</td>\n",
       "    </tr>\n",
       "    <tr>\n",
       "      <th>Kretinga</th>\n",
       "      <td>0.354387</td>\n",
       "      <td>0.619223</td>\n",
       "      <td>0.001456</td>\n",
       "      <td>0.405091</td>\n",
       "      <td>0.854802</td>\n",
       "      <td>0.001708</td>\n",
       "    </tr>\n",
       "  </tbody>\n",
       "</table>\n",
       "</div>"
      ],
      "text/plain": [
       "                 U         V         W         X         Y         Z\n",
       "Miestas                                                             \n",
       "Vilnius   0.417988  0.467908  0.909793  0.436081  0.668175  0.989773\n",
       "Kaunas    0.240542  0.387468  0.416620  0.368322  0.794567  0.554103\n",
       "Klaipėda  0.641592  0.703683  0.008907  0.770536  0.476338  0.093672\n",
       "Palanga   0.751510  0.523194  0.580417  0.236383  0.675515  0.225794\n",
       "Kretinga  0.354387  0.619223  0.001456  0.405091  0.854802  0.001708"
      ]
     },
     "execution_count": 74,
     "metadata": {},
     "output_type": "execute_result"
    }
   ],
   "source": [
    "miestu_betkas"
   ]
  }
 ],
 "metadata": {
  "kernelspec": {
   "display_name": "venv",
   "language": "python",
   "name": "python3"
  },
  "language_info": {
   "codemirror_mode": {
    "name": "ipython",
    "version": 3
   },
   "file_extension": ".py",
   "mimetype": "text/x-python",
   "name": "python",
   "nbconvert_exporter": "python",
   "pygments_lexer": "ipython3",
   "version": "3.8.10"
  },
  "orig_nbformat": 4,
  "vscode": {
   "interpreter": {
    "hash": "fb638a7611dd751c98c4868f8b07efdb6561848469f9a017ff0265dbc4e7eaf7"
   }
  }
 },
 "nbformat": 4,
 "nbformat_minor": 2
}
